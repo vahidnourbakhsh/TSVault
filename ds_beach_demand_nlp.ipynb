{
  "cells": [
    {
      "cell_type": "markdown",
      "metadata": {
        "id": "zL-QM27H19_T",
        "papermill": {
          "duration": 0.008278,
          "end_time": "2022-10-30T00:38:23.097374",
          "exception": false,
          "start_time": "2022-10-30T00:38:23.089096",
          "status": "completed"
        },
        "tags": []
      },
      "source": [
        "Make use of text in the item names.  Ths notebook does not adjust for seasonality."
      ]
    },
    {
      "cell_type": "code",
      "execution_count": 1,
      "metadata": {
        "id": "OGAlKlqL3xS3"
      },
      "outputs": [],
      "source": [
        "import pandas as pd\n",
        "import os\n",
        "\n",
        "from utilities import series_to_supervised"
      ]
    },
    {
      "cell_type": "markdown",
      "metadata": {},
      "source": [
        "# Option 1: For local machine"
      ]
    },
    {
      "cell_type": "code",
      "execution_count": 2,
      "metadata": {},
      "outputs": [],
      "source": [
        "df_sales = pd.read_csv('./data/beach_restaurant_demand_forecast/sales_train.csv')\n",
        "df_items = pd.read_csv('./data/beach_restaurant_demand_forecast/items.csv')\n",
        "df_restaurant = pd.read_csv('./data/beach_restaurant_demand_forecast/restaurants.csv')\n",
        "df_sales.date = pd.to_datetime(df_sales.date, errors='coerce')"
      ]
    },
    {
      "cell_type": "markdown",
      "metadata": {
        "id": "Ugiqg07z3YAH"
      },
      "source": [
        "# Option 2: For Google Colab\n",
        "First download data from \n",
        "https://www.kaggle.com/datasets/jeffheaton/demand-forecasting-with-tabular-textual-images"
      ]
    },
    {
      "cell_type": "code",
      "execution_count": 3,
      "metadata": {
        "colab": {
          "base_uri": "https://localhost:8080/",
          "height": 144
        },
        "id": "0LgxK9xR3Ilz",
        "outputId": "512ef59f-715b-4245-cdaf-c1888fb9b0db"
      },
      "outputs": [],
      "source": [
        "# from google.colab import files\n",
        "# uploaded = files.upload()"
      ]
    },
    {
      "cell_type": "code",
      "execution_count": 4,
      "metadata": {
        "id": "FD7AlLYy3W-P"
      },
      "outputs": [],
      "source": [
        "# import io\n",
        "# df_sales = pd.read_csv(io.BytesIO(uploaded['sales_train.csv']))\n",
        "# df_items = pd.read_csv(io.BytesIO(uploaded['items.csv']))\n",
        "# df_restaurant = pd.read_csv(io.BytesIO(uploaded['resturants.csv']))\n",
        "\n",
        "# df_sales.date = pd.to_datetime(df_sales.date, errors='coerce')"
      ]
    },
    {
      "cell_type": "markdown",
      "metadata": {
        "id": "Q66wEEt_3lj_"
      },
      "source": [
        "# Option 3: For kaggle notebooks"
      ]
    },
    {
      "cell_type": "code",
      "execution_count": 5,
      "metadata": {
        "_cell_guid": "b1076dfc-b9ad-4769-8c92-a6c4dae69d19",
        "_uuid": "8f2839f25d086af736a60e9eeb907d3b93b6e0e5",
        "id": "WuUZiO0N19_V",
        "papermill": {
          "duration": 0.221561,
          "end_time": "2022-10-30T00:38:23.326221",
          "exception": false,
          "start_time": "2022-10-30T00:38:23.10466",
          "status": "completed"
        },
        "tags": [],
        "trusted": true
      },
      "outputs": [],
      "source": [
        "# PATH_CSV = '/kaggle/input/demand-forecasting-with-tabular-textual-images/beach_demand_forecast'\n",
        "\n",
        "# df_sales = pd.read_csv(os.path.join(PATH_CSV,\"sales_train.csv\"))\n",
        "# df_items = pd.read_csv(os.path.join(PATH_CSV,\"items.csv\"))\n",
        "# df_restaurant = pd.read_csv(os.path.join(PATH_CSV,\"resturants.csv\"))\n",
        "\n",
        "# df_sales.date = pd.to_datetime(df_sales.date, errors='coerce')"
      ]
    },
    {
      "cell_type": "markdown",
      "metadata": {
        "id": "wCS-vHVU4QSV"
      },
      "source": [
        "## Explore data"
      ]
    },
    {
      "cell_type": "code",
      "execution_count": 6,
      "metadata": {
        "colab": {
          "base_uri": "https://localhost:8080/",
          "height": 424
        },
        "id": "dZVvHkpG19_W",
        "outputId": "fc6b33d6-f5a1-4c60-e567-8f705d5c430d",
        "trusted": true
      },
      "outputs": [
        {
          "data": {
            "text/html": [
              "<div>\n",
              "<style scoped>\n",
              "    .dataframe tbody tr th:only-of-type {\n",
              "        vertical-align: middle;\n",
              "    }\n",
              "\n",
              "    .dataframe tbody tr th {\n",
              "        vertical-align: top;\n",
              "    }\n",
              "\n",
              "    .dataframe thead th {\n",
              "        text-align: right;\n",
              "    }\n",
              "</style>\n",
              "<table border=\"1\" class=\"dataframe\">\n",
              "  <thead>\n",
              "    <tr style=\"text-align: right;\">\n",
              "      <th></th>\n",
              "      <th>id</th>\n",
              "      <th>store_id</th>\n",
              "      <th>name</th>\n",
              "      <th>kcal</th>\n",
              "      <th>cost</th>\n",
              "    </tr>\n",
              "  </thead>\n",
              "  <tbody>\n",
              "    <tr>\n",
              "      <th>0</th>\n",
              "      <td>1</td>\n",
              "      <td>4</td>\n",
              "      <td>Chocolate Cake</td>\n",
              "      <td>554</td>\n",
              "      <td>6.71</td>\n",
              "    </tr>\n",
              "    <tr>\n",
              "      <th>1</th>\n",
              "      <td>2</td>\n",
              "      <td>4</td>\n",
              "      <td>Breaded Fish with Vegetables Meal</td>\n",
              "      <td>772</td>\n",
              "      <td>15.09</td>\n",
              "    </tr>\n",
              "    <tr>\n",
              "      <th>2</th>\n",
              "      <td>3</td>\n",
              "      <td>1</td>\n",
              "      <td>Sweet Fruity Cake</td>\n",
              "      <td>931</td>\n",
              "      <td>29.22</td>\n",
              "    </tr>\n",
              "    <tr>\n",
              "      <th>3</th>\n",
              "      <td>4</td>\n",
              "      <td>1</td>\n",
              "      <td>Amazing Steak Dinner with Rolls</td>\n",
              "      <td>763</td>\n",
              "      <td>26.42</td>\n",
              "    </tr>\n",
              "    <tr>\n",
              "      <th>4</th>\n",
              "      <td>5</td>\n",
              "      <td>5</td>\n",
              "      <td>Milk Cake</td>\n",
              "      <td>583</td>\n",
              "      <td>6.07</td>\n",
              "    </tr>\n",
              "    <tr>\n",
              "      <th>...</th>\n",
              "      <td>...</td>\n",
              "      <td>...</td>\n",
              "      <td>...</td>\n",
              "      <td>...</td>\n",
              "      <td>...</td>\n",
              "    </tr>\n",
              "    <tr>\n",
              "      <th>95</th>\n",
              "      <td>96</td>\n",
              "      <td>5</td>\n",
              "      <td>Blue Ribbon Fish with Bread Lunch</td>\n",
              "      <td>708</td>\n",
              "      <td>21.93</td>\n",
              "    </tr>\n",
              "    <tr>\n",
              "      <th>96</th>\n",
              "      <td>97</td>\n",
              "      <td>4</td>\n",
              "      <td>Original Fruity Cod with Bread and Vegetables ...</td>\n",
              "      <td>744</td>\n",
              "      <td>28.65</td>\n",
              "    </tr>\n",
              "    <tr>\n",
              "      <th>97</th>\n",
              "      <td>98</td>\n",
              "      <td>2</td>\n",
              "      <td>Original Sweet Milky Soft Drink</td>\n",
              "      <td>579</td>\n",
              "      <td>5.00</td>\n",
              "    </tr>\n",
              "    <tr>\n",
              "      <th>98</th>\n",
              "      <td>99</td>\n",
              "      <td>4</td>\n",
              "      <td>Frozen Tomato Soft Drink</td>\n",
              "      <td>423</td>\n",
              "      <td>5.32</td>\n",
              "    </tr>\n",
              "    <tr>\n",
              "      <th>99</th>\n",
              "      <td>100</td>\n",
              "      <td>2</td>\n",
              "      <td>Awesome Vodka Cocktail</td>\n",
              "      <td>223</td>\n",
              "      <td>2.48</td>\n",
              "    </tr>\n",
              "  </tbody>\n",
              "</table>\n",
              "<p>100 rows × 5 columns</p>\n",
              "</div>"
            ],
            "text/plain": [
              "     id  store_id                                               name  kcal   \n",
              "0     1         4                                     Chocolate Cake   554  \\\n",
              "1     2         4                  Breaded Fish with Vegetables Meal   772   \n",
              "2     3         1                                  Sweet Fruity Cake   931   \n",
              "3     4         1                    Amazing Steak Dinner with Rolls   763   \n",
              "4     5         5                                          Milk Cake   583   \n",
              "..  ...       ...                                                ...   ...   \n",
              "95   96         5                  Blue Ribbon Fish with Bread Lunch   708   \n",
              "96   97         4  Original Fruity Cod with Bread and Vegetables ...   744   \n",
              "97   98         2                    Original Sweet Milky Soft Drink   579   \n",
              "98   99         4                           Frozen Tomato Soft Drink   423   \n",
              "99  100         2                             Awesome Vodka Cocktail   223   \n",
              "\n",
              "     cost  \n",
              "0    6.71  \n",
              "1   15.09  \n",
              "2   29.22  \n",
              "3   26.42  \n",
              "4    6.07  \n",
              "..    ...  \n",
              "95  21.93  \n",
              "96  28.65  \n",
              "97   5.00  \n",
              "98   5.32  \n",
              "99   2.48  \n",
              "\n",
              "[100 rows x 5 columns]"
            ]
          },
          "execution_count": 6,
          "metadata": {},
          "output_type": "execute_result"
        }
      ],
      "source": [
        "df_items"
      ]
    },
    {
      "cell_type": "code",
      "execution_count": 7,
      "metadata": {
        "colab": {
          "base_uri": "https://localhost:8080/",
          "height": 238
        },
        "id": "x2lRx_TX8TUj",
        "outputId": "b75fe637-1204-4353-b749-01a838a3d6eb"
      },
      "outputs": [
        {
          "data": {
            "text/html": [
              "<div>\n",
              "<style scoped>\n",
              "    .dataframe tbody tr th:only-of-type {\n",
              "        vertical-align: middle;\n",
              "    }\n",
              "\n",
              "    .dataframe tbody tr th {\n",
              "        vertical-align: top;\n",
              "    }\n",
              "\n",
              "    .dataframe thead th {\n",
              "        text-align: right;\n",
              "    }\n",
              "</style>\n",
              "<table border=\"1\" class=\"dataframe\">\n",
              "  <thead>\n",
              "    <tr style=\"text-align: right;\">\n",
              "      <th></th>\n",
              "      <th>id</th>\n",
              "      <th>name</th>\n",
              "    </tr>\n",
              "  </thead>\n",
              "  <tbody>\n",
              "    <tr>\n",
              "      <th>0</th>\n",
              "      <td>1</td>\n",
              "      <td>Bob's Diner</td>\n",
              "    </tr>\n",
              "    <tr>\n",
              "      <th>1</th>\n",
              "      <td>2</td>\n",
              "      <td>Beachfront Bar</td>\n",
              "    </tr>\n",
              "    <tr>\n",
              "      <th>2</th>\n",
              "      <td>3</td>\n",
              "      <td>Sweet Shack</td>\n",
              "    </tr>\n",
              "    <tr>\n",
              "      <th>3</th>\n",
              "      <td>4</td>\n",
              "      <td>Fou Cher</td>\n",
              "    </tr>\n",
              "    <tr>\n",
              "      <th>4</th>\n",
              "      <td>5</td>\n",
              "      <td>Corner Cafe</td>\n",
              "    </tr>\n",
              "    <tr>\n",
              "      <th>5</th>\n",
              "      <td>6</td>\n",
              "      <td>Surfs Up</td>\n",
              "    </tr>\n",
              "  </tbody>\n",
              "</table>\n",
              "</div>"
            ],
            "text/plain": [
              "   id            name\n",
              "0   1     Bob's Diner\n",
              "1   2  Beachfront Bar\n",
              "2   3     Sweet Shack\n",
              "3   4        Fou Cher\n",
              "4   5     Corner Cafe\n",
              "5   6        Surfs Up"
            ]
          },
          "execution_count": 7,
          "metadata": {},
          "output_type": "execute_result"
        }
      ],
      "source": [
        "df_restaurant"
      ]
    },
    {
      "cell_type": "code",
      "execution_count": 8,
      "metadata": {
        "colab": {
          "base_uri": "https://localhost:8080/",
          "height": 424
        },
        "id": "f2y5TPr341Xq",
        "outputId": "a7628dc4-9037-467c-ea37-ac6d464e36a8"
      },
      "outputs": [
        {
          "data": {
            "text/html": [
              "<div>\n",
              "<style scoped>\n",
              "    .dataframe tbody tr th:only-of-type {\n",
              "        vertical-align: middle;\n",
              "    }\n",
              "\n",
              "    .dataframe tbody tr th {\n",
              "        vertical-align: top;\n",
              "    }\n",
              "\n",
              "    .dataframe thead th {\n",
              "        text-align: right;\n",
              "    }\n",
              "</style>\n",
              "<table border=\"1\" class=\"dataframe\">\n",
              "  <thead>\n",
              "    <tr style=\"text-align: right;\">\n",
              "      <th></th>\n",
              "      <th>date</th>\n",
              "      <th>item_id</th>\n",
              "      <th>price</th>\n",
              "      <th>item_count</th>\n",
              "    </tr>\n",
              "  </thead>\n",
              "  <tbody>\n",
              "    <tr>\n",
              "      <th>0</th>\n",
              "      <td>2019-01-01</td>\n",
              "      <td>3</td>\n",
              "      <td>29.22</td>\n",
              "      <td>2.0</td>\n",
              "    </tr>\n",
              "    <tr>\n",
              "      <th>1</th>\n",
              "      <td>2019-01-01</td>\n",
              "      <td>4</td>\n",
              "      <td>26.42</td>\n",
              "      <td>22.0</td>\n",
              "    </tr>\n",
              "    <tr>\n",
              "      <th>2</th>\n",
              "      <td>2019-01-01</td>\n",
              "      <td>12</td>\n",
              "      <td>4.87</td>\n",
              "      <td>7.0</td>\n",
              "    </tr>\n",
              "    <tr>\n",
              "      <th>3</th>\n",
              "      <td>2019-01-01</td>\n",
              "      <td>13</td>\n",
              "      <td>4.18</td>\n",
              "      <td>12.0</td>\n",
              "    </tr>\n",
              "    <tr>\n",
              "      <th>4</th>\n",
              "      <td>2019-01-01</td>\n",
              "      <td>16</td>\n",
              "      <td>3.21</td>\n",
              "      <td>136.0</td>\n",
              "    </tr>\n",
              "    <tr>\n",
              "      <th>...</th>\n",
              "      <td>...</td>\n",
              "      <td>...</td>\n",
              "      <td>...</td>\n",
              "      <td>...</td>\n",
              "    </tr>\n",
              "    <tr>\n",
              "      <th>109595</th>\n",
              "      <td>2021-12-31</td>\n",
              "      <td>96</td>\n",
              "      <td>21.93</td>\n",
              "      <td>0.0</td>\n",
              "    </tr>\n",
              "    <tr>\n",
              "      <th>109596</th>\n",
              "      <td>2021-12-31</td>\n",
              "      <td>97</td>\n",
              "      <td>28.65</td>\n",
              "      <td>0.0</td>\n",
              "    </tr>\n",
              "    <tr>\n",
              "      <th>109597</th>\n",
              "      <td>2021-12-31</td>\n",
              "      <td>98</td>\n",
              "      <td>5.00</td>\n",
              "      <td>0.0</td>\n",
              "    </tr>\n",
              "    <tr>\n",
              "      <th>109598</th>\n",
              "      <td>2021-12-31</td>\n",
              "      <td>99</td>\n",
              "      <td>5.32</td>\n",
              "      <td>0.0</td>\n",
              "    </tr>\n",
              "    <tr>\n",
              "      <th>109599</th>\n",
              "      <td>2021-12-31</td>\n",
              "      <td>100</td>\n",
              "      <td>2.48</td>\n",
              "      <td>0.0</td>\n",
              "    </tr>\n",
              "  </tbody>\n",
              "</table>\n",
              "<p>109600 rows × 4 columns</p>\n",
              "</div>"
            ],
            "text/plain": [
              "             date  item_id  price  item_count\n",
              "0      2019-01-01        3  29.22         2.0\n",
              "1      2019-01-01        4  26.42        22.0\n",
              "2      2019-01-01       12   4.87         7.0\n",
              "3      2019-01-01       13   4.18        12.0\n",
              "4      2019-01-01       16   3.21       136.0\n",
              "...           ...      ...    ...         ...\n",
              "109595 2021-12-31       96  21.93         0.0\n",
              "109596 2021-12-31       97  28.65         0.0\n",
              "109597 2021-12-31       98   5.00         0.0\n",
              "109598 2021-12-31       99   5.32         0.0\n",
              "109599 2021-12-31      100   2.48         0.0\n",
              "\n",
              "[109600 rows x 4 columns]"
            ]
          },
          "execution_count": 8,
          "metadata": {},
          "output_type": "execute_result"
        }
      ],
      "source": [
        "df_sales"
      ]
    },
    {
      "cell_type": "markdown",
      "metadata": {
        "id": "pv8yuqfb19_Y",
        "papermill": {
          "duration": 0.007324,
          "end_time": "2022-10-30T00:38:23.341155",
          "exception": false,
          "start_time": "2022-10-30T00:38:23.333831",
          "status": "completed"
        },
        "tags": []
      },
      "source": [
        "## Load the Glove Embeddings"
      ]
    },
    {
      "cell_type": "code",
      "execution_count": 9,
      "metadata": {
        "colab": {
          "base_uri": "https://localhost:8080/"
        },
        "id": "Q0_ckoBE19_Y",
        "outputId": "c297c568-c2e9-4081-ef1b-dca303c2665b",
        "papermill": {
          "duration": 196.187151,
          "end_time": "2022-10-30T00:41:39.535343",
          "exception": false,
          "start_time": "2022-10-30T00:38:23.348192",
          "status": "completed"
        },
        "tags": [],
        "trusted": true
      },
      "outputs": [],
      "source": [
        "# !wget -c \"https://nlp.stanford.edu/data/glove.6B.zip\"\n",
        "# !unzip glove.6B.zip"
      ]
    },
    {
      "cell_type": "code",
      "execution_count": 10,
      "metadata": {
        "id": "xyOzX-4X19_Z",
        "papermill": {
          "duration": 197.077847,
          "end_time": "2022-10-30T00:44:56.670461",
          "exception": false,
          "start_time": "2022-10-30T00:41:39.592614",
          "status": "completed"
        },
        "tags": [],
        "trusted": true
      },
      "outputs": [],
      "source": [
        "from gensim.test.utils import datapath, get_tmpfile\n",
        "from gensim.models import KeyedVectors\n",
        "from gensim.scripts.glove2word2vec import glove2word2vec"
      ]
    },
    {
      "cell_type": "code",
      "execution_count": 11,
      "metadata": {},
      "outputs": [
        {
          "name": "stderr",
          "output_type": "stream",
          "text": [
            "/var/folders/nh/pknstycx55zf284hc5q5g2s8p2t_q7/T/ipykernel_47956/806106838.py:3: DeprecationWarning: Call to deprecated `glove2word2vec` (KeyedVectors.load_word2vec_format(.., binary=False, no_header=True) loads GLoVE text vectors.).\n",
            "  _ = glove2word2vec(glove_file, tmp_file)\n"
          ]
        }
      ],
      "source": [
        "glove_file = './glove.6B/glove.6B.300d.txt'\n",
        "tmp_file = get_tmpfile(\"test_word2vec.txt\")\n",
        "_ = glove2word2vec(glove_file, tmp_file)\n",
        "w2vec_model = KeyedVectors.load_word2vec_format(tmp_file)"
      ]
    },
    {
      "cell_type": "markdown",
      "metadata": {
        "id": "4Rs5rAYN19_Z",
        "papermill": {
          "duration": 0.055205,
          "end_time": "2022-10-30T00:44:56.780525",
          "exception": false,
          "start_time": "2022-10-30T00:44:56.72532",
          "status": "completed"
        },
        "tags": []
      },
      "source": [
        "# NLP Demo"
      ]
    },
    {
      "cell_type": "code",
      "execution_count": 12,
      "metadata": {
        "id": "tRC-r98n19_Z",
        "papermill": {
          "duration": 0.411924,
          "end_time": "2022-10-30T00:44:57.247673",
          "exception": false,
          "start_time": "2022-10-30T00:44:56.835749",
          "status": "completed"
        },
        "tags": [],
        "trusted": true
      },
      "outputs": [
        {
          "data": {
            "text/plain": [
              "[('queen', 0.6713277101516724),\n",
              " ('princess', 0.5432624220848083),\n",
              " ('throne', 0.5386103987693787),\n",
              " ('monarch', 0.5347574949264526),\n",
              " ('daughter', 0.4980250597000122),\n",
              " ('mother', 0.4956442713737488),\n",
              " ('elizabeth', 0.483265221118927),\n",
              " ('kingdom', 0.47747087478637695),\n",
              " ('prince', 0.4668240249156952),\n",
              " ('wife', 0.46473273634910583)]"
            ]
          },
          "execution_count": 12,
          "metadata": {},
          "output_type": "execute_result"
        }
      ],
      "source": [
        "w2vec_model.most_similar(positive=['woman', 'king'], negative=['man'])"
      ]
    },
    {
      "cell_type": "code",
      "execution_count": 13,
      "metadata": {
        "id": "7eM-eqUK19_Z",
        "papermill": {
          "duration": 0.073398,
          "end_time": "2022-10-30T00:44:57.432257",
          "exception": false,
          "start_time": "2022-10-30T00:44:57.358859",
          "status": "completed"
        },
        "tags": [],
        "trusted": true
      },
      "outputs": [
        {
          "data": {
            "text/plain": [
              "array([-1.1043e-01,  8.1217e-01,  7.3668e-02,  1.9023e-01, -5.2888e-02,\n",
              "        6.1468e-02,  1.6076e-01,  4.1302e-01, -3.0199e-01, -9.0827e-01,\n",
              "        2.7504e-01, -3.1890e-02, -2.8842e-01,  2.3447e-01,  4.7679e-01,\n",
              "        5.0124e-01,  2.9371e-01,  2.7029e-01,  5.4745e-02,  9.8038e-02,\n",
              "        5.7116e-01,  3.6755e-01,  4.0734e-02,  3.4347e-01, -1.8256e-01,\n",
              "       -2.8935e-01,  2.3826e-02, -1.9401e-01,  2.4444e-01,  1.3407e-01,\n",
              "       -1.6494e-01, -2.6983e-01, -2.6234e-01, -2.1779e-01, -8.7528e-01,\n",
              "        7.3822e-01, -8.7931e-02, -1.0876e-02, -2.6540e-01,  3.4668e-01,\n",
              "       -5.5814e-01,  1.7591e-01,  1.6926e-01, -1.5725e-01, -5.0430e-01,\n",
              "       -2.0100e-01,  6.6701e-01, -3.2518e-02,  4.5012e-02,  6.5675e-02,\n",
              "       -1.6061e-01, -7.3363e-01,  2.4642e-01,  3.4325e-01,  2.1899e-01,\n",
              "        4.8646e-02, -5.9987e-01, -5.8153e-02, -5.1694e-02, -5.7846e-01,\n",
              "        3.0000e-01,  3.5078e-01,  4.6646e-01, -7.5309e-03,  1.0455e-01,\n",
              "       -5.1016e-01, -5.5987e-02, -1.0295e-01, -2.6476e-01, -4.1230e-02,\n",
              "       -2.8371e-02,  5.1979e-01, -3.4849e-01, -4.7217e-01, -3.7229e-01,\n",
              "       -3.2790e-02,  1.3989e-01,  3.5716e-01,  1.9305e-01, -2.1986e-01,\n",
              "        2.4136e-01,  4.0976e-01,  3.7516e-01,  1.4255e-01, -3.4143e-02,\n",
              "       -7.2653e-01, -1.0832e-01,  6.8616e-01, -2.6335e-01, -4.2345e-01,\n",
              "       -2.4253e-01,  1.5778e-01,  1.4258e-01, -3.2749e-01, -3.4699e-01,\n",
              "        1.6148e-01,  1.9603e-01,  4.1639e-01, -2.3370e-01,  7.5816e-02,\n",
              "        1.5899e-01,  1.6623e-03, -4.8301e-02, -1.0611e-01, -1.9326e-01,\n",
              "        1.4494e-01,  1.5406e-02,  1.0629e-01, -3.6699e-02,  6.3230e-01,\n",
              "        1.2986e-01,  4.9902e-01, -1.1323e+00, -1.2636e-01,  6.4718e-02,\n",
              "        1.2374e-01, -4.9712e-01, -1.4836e-02,  1.0488e-01, -4.9818e-01,\n",
              "       -2.8856e-01,  3.8949e-01, -3.1828e-02, -2.8625e-01, -9.8758e-02,\n",
              "       -7.6990e-02, -2.4234e-01,  7.5793e-01,  3.4835e-01, -7.1030e-01,\n",
              "        4.5318e-01, -3.4418e-01, -1.9459e-01,  6.1478e-01, -2.9010e-02,\n",
              "       -2.7864e-01,  3.8556e-01,  1.0072e-01,  1.2895e-01,  1.7992e-02,\n",
              "        3.3670e-01,  2.0698e-01, -3.8049e-01, -6.6661e-03,  1.1540e-01,\n",
              "       -8.5268e-02, -1.4608e-01,  4.4514e-01, -9.3674e-02,  2.3639e-01,\n",
              "       -1.1447e-01,  1.0948e+00, -5.7823e-02, -1.6295e-01,  5.5880e-01,\n",
              "       -1.8988e-02, -7.1374e-02,  2.1319e-01,  6.1277e-02,  7.2759e-01,\n",
              "        6.2747e-01, -1.9280e-01,  1.3057e-01,  1.7426e-01, -1.0229e-01,\n",
              "        1.5232e-01,  5.2500e-01, -2.1919e-01, -2.7185e-01, -5.4186e-01,\n",
              "        3.1752e-01,  1.6375e-01, -2.9039e-01,  1.7074e-01, -3.1814e-01,\n",
              "       -9.6421e-01, -1.1610e-01, -2.9951e-01,  1.8686e-01, -4.5986e-01,\n",
              "        4.1633e-01, -1.7583e-01, -3.4583e-01, -2.7244e-01, -5.0216e-01,\n",
              "        1.2852e-02,  5.9838e-01, -1.1237e-01,  2.4697e-01, -4.9048e-01,\n",
              "       -4.4188e-01, -1.6255e-01, -7.3313e-01, -3.7677e-01, -6.8925e-01,\n",
              "        6.1174e-02, -4.2101e-01, -1.3153e-01, -8.3590e-03, -1.8360e-02,\n",
              "        1.3686e+00,  4.6169e-02,  9.4622e-01, -1.5126e-02, -1.2477e-01,\n",
              "        4.8754e-01,  2.2384e-01, -2.1820e-01, -2.3389e-01,  1.5207e-01,\n",
              "       -2.8718e-01, -6.3908e-01, -2.2383e-01, -1.8014e-01, -3.3548e-01,\n",
              "        5.3587e-01, -2.9367e-01,  1.0866e-01,  6.3411e-02, -9.3424e-03,\n",
              "       -1.5886e-01,  2.2602e-01,  1.1925e-01, -4.1442e-01, -7.8062e-02,\n",
              "       -9.7857e-02,  2.7938e-01, -1.8348e-01, -3.4584e-01,  1.8489e-01,\n",
              "        1.7402e-01, -5.2198e-01, -4.3306e-01,  1.6256e-01,  1.4032e-01,\n",
              "        3.5124e-01, -1.8280e-01, -3.5984e-01, -1.3009e-01,  1.6304e-01,\n",
              "        3.1734e-01,  3.7716e-03, -4.5498e-02, -4.2066e-01, -4.4419e-01,\n",
              "       -6.8985e-01, -4.9359e-01,  7.0281e-02, -1.4377e-01,  6.2508e-01,\n",
              "       -5.6311e-02,  1.8850e-01, -5.6785e-02,  1.4052e-01,  1.1973e+00,\n",
              "        7.1894e-01,  5.4332e-01, -1.2461e-01, -1.1978e-01,  3.0163e-01,\n",
              "       -1.6273e-01, -4.6740e-02, -2.5249e-01, -3.0659e-02, -3.2271e-01,\n",
              "        3.2361e-01,  3.3244e-01, -2.7819e-02, -3.3367e-01, -2.3444e-02,\n",
              "       -5.0394e-01, -2.0587e-01, -1.3013e-01, -3.5884e-01,  4.5384e-02,\n",
              "       -1.1863e-01, -1.7257e+00,  3.9441e-01, -5.3179e-01,  5.8209e-01,\n",
              "       -6.5771e-01,  3.6849e-01,  2.3518e-01,  1.0802e-01, -8.3159e-01,\n",
              "        6.1486e-01,  2.5547e-01, -4.5289e-01,  5.1446e-01, -1.7911e-01,\n",
              "       -1.2389e-01,  1.8688e-01, -4.1102e-01, -7.0877e-01, -3.7501e-01,\n",
              "       -6.6152e-01,  6.7730e-01,  3.3936e-01,  5.7994e-01,  6.8149e-02],\n",
              "      dtype=float32)"
            ]
          },
          "execution_count": 13,
          "metadata": {},
          "output_type": "execute_result"
        }
      ],
      "source": [
        "# for each word in the dictionary of the words there is a vector presentation. The vector is 300-dimensions as stated in `'glove.6B.300d.txt'`\n",
        "w2vec_model['dog']"
      ]
    },
    {
      "cell_type": "markdown",
      "metadata": {
        "id": "8M3yFosg19_a",
        "papermill": {
          "duration": 0.055469,
          "end_time": "2022-10-30T00:44:57.543435",
          "exception": false,
          "start_time": "2022-10-30T00:44:57.487966",
          "status": "completed"
        },
        "tags": []
      },
      "source": [
        "## Perform NLP Prediction"
      ]
    },
    {
      "cell_type": "code",
      "execution_count": 14,
      "metadata": {
        "id": "xN9hKxO819_a",
        "papermill": {
          "duration": 0.071312,
          "end_time": "2022-10-30T00:44:57.66978",
          "exception": false,
          "start_time": "2022-10-30T00:44:57.598468",
          "status": "completed"
        },
        "tags": [],
        "trusted": true
      },
      "outputs": [],
      "source": [
        "def process_title(model, name: str):\n",
        "    \"\"\"for the given `name` (which is a string of words) calculate the vector representation. \n",
        "    The vector representation is the average of all vector representations of words in `name`. \n",
        "    Where are the vectors? In the `model`.\n",
        "    \n",
        "    EXAMPLE:\n",
        "        name = \"Chocolate Cake\"\n",
        "        get vector repr. for `Chocolate` and `Cake`. Then, average the vectors. \n",
        "    \"\"\"\n",
        "    v = None\n",
        "    i = 0\n",
        "    for word in name.split(' '):\n",
        "        word = word.lower()\n",
        "        if word == 'vegi': word = \"vegetable\"\n",
        "        if word == 'smoothy': word = \"malt\"\n",
        "        i+=1\n",
        "        if v is None and word in model:\n",
        "            v=model[word].copy()\n",
        "        elif word in model:\n",
        "            v+=model[word]\n",
        "    v/=i\n",
        "    return v"
      ]
    },
    {
      "cell_type": "code",
      "execution_count": 15,
      "metadata": {
        "id": "1JvIFvNe19_a",
        "trusted": true
      },
      "outputs": [
        {
          "data": {
            "text/plain": [
              "array([-0.0758825 ,  0.397085  , -0.008343  , -0.097215  , -0.56650496,\n",
              "        0.11932001, -0.016513  , -0.23697   ,  0.29838   , -0.396955  ,\n",
              "        0.2197465 , -0.86015   , -0.242585  ,  0.40074998, -0.47479498,\n",
              "       -0.43400502,  0.066375  , -0.0704385 , -0.12736   ,  0.14479   ,\n",
              "        0.30041   ,  0.152275  ,  0.081575  ,  0.561785  , -0.543175  ,\n",
              "       -0.1077285 , -0.481505  ,  0.01428001, -0.293545  , -0.78625   ,\n",
              "       -0.45320898,  0.5007    , -0.310665  , -0.33092   , -0.745745  ,\n",
              "        0.799985  , -0.252535  ,  0.52907   , -0.2017775 ,  0.009743  ,\n",
              "       -0.5865    , -0.05154   ,  0.15520845,  0.242735  ,  0.103693  ,\n",
              "       -0.38421   ,  0.43168998, -0.393225  ,  0.126563  ,  0.266575  ,\n",
              "        0.21884501,  0.019948  ,  0.319965  ,  0.388915  , -0.52665496,\n",
              "       -0.16352999, -0.313815  ,  0.1312875 ,  0.741905  ,  0.07834   ,\n",
              "        0.153882  , -0.0286585 ,  0.3736    , -0.19812521,  0.004449  ,\n",
              "       -0.137377  ,  0.2927    ,  0.21911499, -0.56374   , -0.035235  ,\n",
              "        0.16748449,  0.1130373 , -0.47912002,  0.0078935 , -0.0938205 ,\n",
              "        0.24660501,  0.287745  , -0.2160005 , -0.31185   , -0.191385  ,\n",
              "        0.306045  ,  0.32739002, -0.113075  , -0.26968   ,  0.395855  ,\n",
              "       -0.58642   , -0.29604   ,  0.185799  , -0.103265  , -0.16006951,\n",
              "       -0.30686   , -0.275975  , -0.30315   , -0.17257   , -0.346465  ,\n",
              "        0.259894  ,  0.219313  ,  0.30609748, -0.117422  , -0.038745  ,\n",
              "        0.00374   ,  0.0557    , -0.022166  , -0.74479   ,  0.12029749,\n",
              "       -0.507515  ,  0.07930499,  0.49098003, -0.641725  ,  0.466245  ,\n",
              "        0.558455  ,  0.54287   , -0.1343735 , -0.71301496, -0.0589155 ,\n",
              "       -0.0979365 , -0.505225  ,  0.674065  ,  0.1094375 , -0.2424655 ,\n",
              "        0.007685  ,  0.152865  ,  0.177785  , -0.15871   , -0.479845  ,\n",
              "       -0.54756   ,  0.38296002,  0.695485  , -0.43063498,  0.43189   ,\n",
              "       -0.39331   ,  0.95247   , -0.2816635 ,  0.69107   , -0.15017   ,\n",
              "       -0.2332005 , -0.67948496,  0.39192998, -0.208085  , -0.417705  ,\n",
              "        0.60365   , -0.1205685 , -0.749775  , -0.154757  ,  0.34211498,\n",
              "       -0.042825  , -0.1905755 , -0.04968999, -0.096292  , -0.30480498,\n",
              "       -0.53445   ,  0.32816   ,  0.31090498,  0.42687   , -0.0490865 ,\n",
              "       -0.28529   , -0.38295   , -0.500635  , -0.16067499, -0.028755  ,\n",
              "        0.049205  , -0.29459   ,  0.05688   , -0.152261  , -0.227741  ,\n",
              "        0.057078  ,  0.27081499,  0.124185  ,  0.09541   , -0.29576   ,\n",
              "       -0.1462325 , -0.03050501, -0.0132465 , -0.24546002, -0.215119  ,\n",
              "        0.00774   , -0.0623005 , -0.1420383 ,  0.174235  , -0.7115    ,\n",
              "       -0.225946  ,  0.24572   ,  0.704035  , -0.375975  ,  0.04194501,\n",
              "       -0.466065  ,  1.0725    , -0.19130051,  0.0789115 , -0.32525998,\n",
              "        0.37444502,  0.69384   , -0.318725  , -0.078943  , -0.2262205 ,\n",
              "       -0.14419   , -0.42312998,  0.236395  ,  0.002591  ,  0.025005  ,\n",
              "        0.61789   , -0.299925  ,  0.669515  ,  0.458515  , -0.18901299,\n",
              "       -0.31158   ,  0.426085  ,  0.347495  , -0.22683501, -0.32270998,\n",
              "       -0.040085  , -0.380295  , -0.24698001, -0.07270205, -0.039295  ,\n",
              "        0.39039   ,  0.466915  , -0.626585  ,  0.465585  ,  0.17381501,\n",
              "        0.48127502,  0.65104496, -0.19567001,  0.12225   , -0.550395  ,\n",
              "       -0.24815801,  0.1530475 ,  0.31514502,  0.550725  , -0.1156575 ,\n",
              "       -0.14107099, -0.361225  , -0.1171822 ,  0.10655604,  0.737155  ,\n",
              "        0.14567   , -0.1052033 ,  0.14598005, -0.193076  , -0.468895  ,\n",
              "       -0.20541501, -0.16724   , -0.0589035 , -0.47609   , -0.96599996,\n",
              "        0.423935  , -0.21530451,  0.35992   ,  0.592475  , -0.53815997,\n",
              "        0.609865  , -0.308525  ,  0.270385  ,  0.3737    ,  0.39519998,\n",
              "        0.295473  ,  0.106924  , -0.33153   ,  0.35137498,  0.332295  ,\n",
              "       -0.373375  , -0.35148   ,  0.288665  ,  0.0101135 ,  0.07185305,\n",
              "        0.0095815 , -0.441575  ,  0.25465   ,  0.66583997,  0.08756   ,\n",
              "       -0.252385  , -0.14396864,  0.144069  ,  0.41631997, -0.00847   ,\n",
              "        0.00461   , -0.65706503, -0.420475  , -1.45785   , -0.43234402,\n",
              "       -0.009235  ,  0.541265  , -0.68500996, -0.626915  , -0.0377826 ,\n",
              "        0.673235  ,  0.49627   , -0.29145   ,  0.130945  ,  0.57905   ,\n",
              "       -0.21649049, -0.269035  , -0.04721971,  0.37454   ,  0.23300001,\n",
              "       -0.66874003, -0.01642   ,  0.0887585 , -0.222635  , -0.239885  ],\n",
              "      dtype=float32)"
            ]
          },
          "execution_count": 15,
          "metadata": {},
          "output_type": "execute_result"
        }
      ],
      "source": [
        "process_title(w2vec_model, \"Chocolate cake\")"
      ]
    },
    {
      "cell_type": "code",
      "execution_count": 16,
      "metadata": {
        "id": "OFCq37cp19_a",
        "trusted": true
      },
      "outputs": [
        {
          "name": "stdout",
          "output_type": "stream",
          "text": [
            "100\n"
          ]
        }
      ],
      "source": [
        "item_lookup = {}\n",
        "for i, name in zip(list(df_items.id), list(df_items.name)):\n",
        "    v = process_title(w2vec_model, name)\n",
        "    item_lookup[i] = v\n",
        "\n",
        "#r = process_title(w2vec_model, 'breaded fish with vegetables meal')\n",
        "#print(r)\n",
        "print(len(item_lookup))"
      ]
    },
    {
      "cell_type": "markdown",
      "metadata": {
        "id": "eeYj1Orj19_b",
        "papermill": {
          "duration": 0.055731,
          "end_time": "2022-10-30T00:44:58.01684",
          "exception": false,
          "start_time": "2022-10-30T00:44:57.961109",
          "status": "completed"
        },
        "tags": []
      },
      "source": [
        "Join the items and sales tables so that we can look up the store id for each item."
      ]
    },
    {
      "cell_type": "code",
      "execution_count": 47,
      "metadata": {
        "id": "YvbSSYYh19_b",
        "papermill": {
          "duration": 0.185903,
          "end_time": "2022-10-30T00:44:58.259037",
          "exception": false,
          "start_time": "2022-10-30T00:44:58.073134",
          "status": "completed"
        },
        "tags": [],
        "trusted": true
      },
      "outputs": [
        {
          "data": {
            "text/html": [
              "<div>\n",
              "<style scoped>\n",
              "    .dataframe tbody tr th:only-of-type {\n",
              "        vertical-align: middle;\n",
              "    }\n",
              "\n",
              "    .dataframe tbody tr th {\n",
              "        vertical-align: top;\n",
              "    }\n",
              "\n",
              "    .dataframe thead th {\n",
              "        text-align: right;\n",
              "    }\n",
              "</style>\n",
              "<table border=\"1\" class=\"dataframe\">\n",
              "  <thead>\n",
              "    <tr style=\"text-align: right;\">\n",
              "      <th></th>\n",
              "      <th>item</th>\n",
              "      <th>store</th>\n",
              "      <th>date</th>\n",
              "      <th>sales</th>\n",
              "    </tr>\n",
              "  </thead>\n",
              "  <tbody>\n",
              "    <tr>\n",
              "      <th>0</th>\n",
              "      <td>1</td>\n",
              "      <td>4</td>\n",
              "      <td>2019-01-01</td>\n",
              "      <td>0.0</td>\n",
              "    </tr>\n",
              "    <tr>\n",
              "      <th>1</th>\n",
              "      <td>1</td>\n",
              "      <td>4</td>\n",
              "      <td>2019-01-02</td>\n",
              "      <td>0.0</td>\n",
              "    </tr>\n",
              "    <tr>\n",
              "      <th>2</th>\n",
              "      <td>1</td>\n",
              "      <td>4</td>\n",
              "      <td>2019-01-03</td>\n",
              "      <td>0.0</td>\n",
              "    </tr>\n",
              "    <tr>\n",
              "      <th>3</th>\n",
              "      <td>1</td>\n",
              "      <td>4</td>\n",
              "      <td>2019-01-04</td>\n",
              "      <td>0.0</td>\n",
              "    </tr>\n",
              "    <tr>\n",
              "      <th>4</th>\n",
              "      <td>1</td>\n",
              "      <td>4</td>\n",
              "      <td>2019-01-05</td>\n",
              "      <td>0.0</td>\n",
              "    </tr>\n",
              "  </tbody>\n",
              "</table>\n",
              "</div>"
            ],
            "text/plain": [
              "   item  store       date  sales\n",
              "0     1      4 2019-01-01    0.0\n",
              "1     1      4 2019-01-02    0.0\n",
              "2     1      4 2019-01-03    0.0\n",
              "3     1      4 2019-01-04    0.0\n",
              "4     1      4 2019-01-05    0.0"
            ]
          },
          "execution_count": 47,
          "metadata": {},
          "output_type": "execute_result"
        }
      ],
      "source": [
        "df_items2 = df_items[['id','store_id']]\n",
        "df_train = df_sales.merge(df_items2,left_on='item_id',right_on='id')\n",
        "df_train[['date','item_id','item_count','store_id']]\n",
        "\n",
        "df_train = df_train.sort_values('date').groupby(['item_id', 'store_id', 'date'], as_index=False)\n",
        "df_train = df_train.agg({'item_count':['mean']})\n",
        "df_train.columns = ['item', 'store', 'date', 'sales']\n",
        "df_train.head()"
      ]
    },
    {
      "cell_type": "code",
      "execution_count": 48,
      "metadata": {
        "id": "RGuHfK7R19_b",
        "papermill": {
          "duration": 0.100603,
          "end_time": "2022-10-30T00:44:58.416064",
          "exception": false,
          "start_time": "2022-10-30T00:44:58.315461",
          "status": "completed"
        },
        "tags": [],
        "trusted": true
      },
      "outputs": [
        {
          "data": {
            "text/html": [
              "<div>\n",
              "<style scoped>\n",
              "    .dataframe tbody tr th:only-of-type {\n",
              "        vertical-align: middle;\n",
              "    }\n",
              "\n",
              "    .dataframe tbody tr th {\n",
              "        vertical-align: top;\n",
              "    }\n",
              "\n",
              "    .dataframe thead th {\n",
              "        text-align: right;\n",
              "    }\n",
              "</style>\n",
              "<table border=\"1\" class=\"dataframe\">\n",
              "  <thead>\n",
              "    <tr style=\"text-align: right;\">\n",
              "      <th></th>\n",
              "      <th>item</th>\n",
              "      <th>store</th>\n",
              "      <th>date</th>\n",
              "      <th>sales</th>\n",
              "      <th>dow</th>\n",
              "      <th>doy</th>\n",
              "    </tr>\n",
              "  </thead>\n",
              "  <tbody>\n",
              "    <tr>\n",
              "      <th>0</th>\n",
              "      <td>1</td>\n",
              "      <td>4</td>\n",
              "      <td>2019-01-01</td>\n",
              "      <td>0.0</td>\n",
              "      <td>1</td>\n",
              "      <td>1</td>\n",
              "    </tr>\n",
              "    <tr>\n",
              "      <th>1</th>\n",
              "      <td>1</td>\n",
              "      <td>4</td>\n",
              "      <td>2019-01-02</td>\n",
              "      <td>0.0</td>\n",
              "      <td>2</td>\n",
              "      <td>2</td>\n",
              "    </tr>\n",
              "    <tr>\n",
              "      <th>2</th>\n",
              "      <td>1</td>\n",
              "      <td>4</td>\n",
              "      <td>2019-01-03</td>\n",
              "      <td>0.0</td>\n",
              "      <td>3</td>\n",
              "      <td>3</td>\n",
              "    </tr>\n",
              "    <tr>\n",
              "      <th>3</th>\n",
              "      <td>1</td>\n",
              "      <td>4</td>\n",
              "      <td>2019-01-04</td>\n",
              "      <td>0.0</td>\n",
              "      <td>4</td>\n",
              "      <td>4</td>\n",
              "    </tr>\n",
              "    <tr>\n",
              "      <th>4</th>\n",
              "      <td>1</td>\n",
              "      <td>4</td>\n",
              "      <td>2019-01-05</td>\n",
              "      <td>0.0</td>\n",
              "      <td>5</td>\n",
              "      <td>5</td>\n",
              "    </tr>\n",
              "    <tr>\n",
              "      <th>...</th>\n",
              "      <td>...</td>\n",
              "      <td>...</td>\n",
              "      <td>...</td>\n",
              "      <td>...</td>\n",
              "      <td>...</td>\n",
              "      <td>...</td>\n",
              "    </tr>\n",
              "    <tr>\n",
              "      <th>109595</th>\n",
              "      <td>100</td>\n",
              "      <td>2</td>\n",
              "      <td>2021-12-27</td>\n",
              "      <td>0.0</td>\n",
              "      <td>0</td>\n",
              "      <td>361</td>\n",
              "    </tr>\n",
              "    <tr>\n",
              "      <th>109596</th>\n",
              "      <td>100</td>\n",
              "      <td>2</td>\n",
              "      <td>2021-12-28</td>\n",
              "      <td>0.0</td>\n",
              "      <td>1</td>\n",
              "      <td>362</td>\n",
              "    </tr>\n",
              "    <tr>\n",
              "      <th>109597</th>\n",
              "      <td>100</td>\n",
              "      <td>2</td>\n",
              "      <td>2021-12-29</td>\n",
              "      <td>0.0</td>\n",
              "      <td>2</td>\n",
              "      <td>363</td>\n",
              "    </tr>\n",
              "    <tr>\n",
              "      <th>109598</th>\n",
              "      <td>100</td>\n",
              "      <td>2</td>\n",
              "      <td>2021-12-30</td>\n",
              "      <td>0.0</td>\n",
              "      <td>3</td>\n",
              "      <td>364</td>\n",
              "    </tr>\n",
              "    <tr>\n",
              "      <th>109599</th>\n",
              "      <td>100</td>\n",
              "      <td>2</td>\n",
              "      <td>2021-12-31</td>\n",
              "      <td>0.0</td>\n",
              "      <td>4</td>\n",
              "      <td>365</td>\n",
              "    </tr>\n",
              "  </tbody>\n",
              "</table>\n",
              "<p>109600 rows × 6 columns</p>\n",
              "</div>"
            ],
            "text/plain": [
              "        item  store       date  sales  dow  doy\n",
              "0          1      4 2019-01-01    0.0    1    1\n",
              "1          1      4 2019-01-02    0.0    2    2\n",
              "2          1      4 2019-01-03    0.0    3    3\n",
              "3          1      4 2019-01-04    0.0    4    4\n",
              "4          1      4 2019-01-05    0.0    5    5\n",
              "...      ...    ...        ...    ...  ...  ...\n",
              "109595   100      2 2021-12-27    0.0    0  361\n",
              "109596   100      2 2021-12-28    0.0    1  362\n",
              "109597   100      2 2021-12-29    0.0    2  363\n",
              "109598   100      2 2021-12-30    0.0    3  364\n",
              "109599   100      2 2021-12-31    0.0    4  365\n",
              "\n",
              "[109600 rows x 6 columns]"
            ]
          },
          "execution_count": 48,
          "metadata": {},
          "output_type": "execute_result"
        }
      ],
      "source": [
        "df_train['dow'] = df_train['date'].dt.dayofweek\n",
        "df_train['doy'] = df_train['date'].dt.dayofyear\n",
        "df_train"
      ]
    },
    {
      "cell_type": "markdown",
      "metadata": {
        "id": "pFgQLRjY_ZVy"
      },
      "source": [
        "## Build the sequence data"
      ]
    },
    {
      "cell_type": "code",
      "execution_count": 49,
      "metadata": {
        "id": "xukLW4kH_sWq"
      },
      "outputs": [],
      "source": [
        "window = 29 # we use `window` history to predict the future\n",
        "future_span = 30 # we are predicting this timestamp in the future"
      ]
    },
    {
      "cell_type": "code",
      "execution_count": 50,
      "metadata": {
        "id": "f-LeD2QU9Pv-"
      },
      "outputs": [
        {
          "data": {
            "text/plain": [
              "Index(['item', 'store', 'sales', 'dow', 'doy'], dtype='object')"
            ]
          },
          "execution_count": 50,
          "metadata": {},
          "output_type": "execute_result"
        }
      ],
      "source": [
        "df_train.drop('date', axis=1).columns"
      ]
    },
    {
      "cell_type": "code",
      "execution_count": 51,
      "metadata": {
        "id": "LOb9enqk9JtS"
      },
      "outputs": [
        {
          "data": {
            "text/html": [
              "<div>\n",
              "<style scoped>\n",
              "    .dataframe tbody tr th:only-of-type {\n",
              "        vertical-align: middle;\n",
              "    }\n",
              "\n",
              "    .dataframe tbody tr th {\n",
              "        vertical-align: top;\n",
              "    }\n",
              "\n",
              "    .dataframe thead th {\n",
              "        text-align: right;\n",
              "    }\n",
              "</style>\n",
              "<table border=\"1\" class=\"dataframe\">\n",
              "  <thead>\n",
              "    <tr style=\"text-align: right;\">\n",
              "      <th></th>\n",
              "      <th>item(t-29)</th>\n",
              "      <th>item(t-28)</th>\n",
              "      <th>item(t-27)</th>\n",
              "      <th>item(t-26)</th>\n",
              "      <th>item(t-25)</th>\n",
              "      <th>item(t-24)</th>\n",
              "      <th>item(t-23)</th>\n",
              "      <th>item(t-22)</th>\n",
              "      <th>item(t-21)</th>\n",
              "      <th>item(t-20)</th>\n",
              "      <th>...</th>\n",
              "      <th>item(t-4)</th>\n",
              "      <th>item(t-3)</th>\n",
              "      <th>item(t-2)</th>\n",
              "      <th>item(t-1)</th>\n",
              "      <th>item</th>\n",
              "      <th>store</th>\n",
              "      <th>sales</th>\n",
              "      <th>dow</th>\n",
              "      <th>doy</th>\n",
              "      <th>item(t+30)</th>\n",
              "    </tr>\n",
              "  </thead>\n",
              "  <tbody>\n",
              "    <tr>\n",
              "      <th>29</th>\n",
              "      <td>1.0</td>\n",
              "      <td>1.0</td>\n",
              "      <td>1.0</td>\n",
              "      <td>1.0</td>\n",
              "      <td>1.0</td>\n",
              "      <td>1.0</td>\n",
              "      <td>1.0</td>\n",
              "      <td>1.0</td>\n",
              "      <td>1.0</td>\n",
              "      <td>1.0</td>\n",
              "      <td>...</td>\n",
              "      <td>1.0</td>\n",
              "      <td>1.0</td>\n",
              "      <td>1.0</td>\n",
              "      <td>1.0</td>\n",
              "      <td>1</td>\n",
              "      <td>4</td>\n",
              "      <td>0.0</td>\n",
              "      <td>2</td>\n",
              "      <td>30</td>\n",
              "      <td>1.0</td>\n",
              "    </tr>\n",
              "    <tr>\n",
              "      <th>30</th>\n",
              "      <td>1.0</td>\n",
              "      <td>1.0</td>\n",
              "      <td>1.0</td>\n",
              "      <td>1.0</td>\n",
              "      <td>1.0</td>\n",
              "      <td>1.0</td>\n",
              "      <td>1.0</td>\n",
              "      <td>1.0</td>\n",
              "      <td>1.0</td>\n",
              "      <td>1.0</td>\n",
              "      <td>...</td>\n",
              "      <td>1.0</td>\n",
              "      <td>1.0</td>\n",
              "      <td>1.0</td>\n",
              "      <td>1.0</td>\n",
              "      <td>1</td>\n",
              "      <td>4</td>\n",
              "      <td>0.0</td>\n",
              "      <td>3</td>\n",
              "      <td>31</td>\n",
              "      <td>1.0</td>\n",
              "    </tr>\n",
              "    <tr>\n",
              "      <th>31</th>\n",
              "      <td>1.0</td>\n",
              "      <td>1.0</td>\n",
              "      <td>1.0</td>\n",
              "      <td>1.0</td>\n",
              "      <td>1.0</td>\n",
              "      <td>1.0</td>\n",
              "      <td>1.0</td>\n",
              "      <td>1.0</td>\n",
              "      <td>1.0</td>\n",
              "      <td>1.0</td>\n",
              "      <td>...</td>\n",
              "      <td>1.0</td>\n",
              "      <td>1.0</td>\n",
              "      <td>1.0</td>\n",
              "      <td>1.0</td>\n",
              "      <td>1</td>\n",
              "      <td>4</td>\n",
              "      <td>0.0</td>\n",
              "      <td>4</td>\n",
              "      <td>32</td>\n",
              "      <td>1.0</td>\n",
              "    </tr>\n",
              "    <tr>\n",
              "      <th>32</th>\n",
              "      <td>1.0</td>\n",
              "      <td>1.0</td>\n",
              "      <td>1.0</td>\n",
              "      <td>1.0</td>\n",
              "      <td>1.0</td>\n",
              "      <td>1.0</td>\n",
              "      <td>1.0</td>\n",
              "      <td>1.0</td>\n",
              "      <td>1.0</td>\n",
              "      <td>1.0</td>\n",
              "      <td>...</td>\n",
              "      <td>1.0</td>\n",
              "      <td>1.0</td>\n",
              "      <td>1.0</td>\n",
              "      <td>1.0</td>\n",
              "      <td>1</td>\n",
              "      <td>4</td>\n",
              "      <td>0.0</td>\n",
              "      <td>5</td>\n",
              "      <td>33</td>\n",
              "      <td>1.0</td>\n",
              "    </tr>\n",
              "    <tr>\n",
              "      <th>33</th>\n",
              "      <td>1.0</td>\n",
              "      <td>1.0</td>\n",
              "      <td>1.0</td>\n",
              "      <td>1.0</td>\n",
              "      <td>1.0</td>\n",
              "      <td>1.0</td>\n",
              "      <td>1.0</td>\n",
              "      <td>1.0</td>\n",
              "      <td>1.0</td>\n",
              "      <td>1.0</td>\n",
              "      <td>...</td>\n",
              "      <td>1.0</td>\n",
              "      <td>1.0</td>\n",
              "      <td>1.0</td>\n",
              "      <td>1.0</td>\n",
              "      <td>1</td>\n",
              "      <td>4</td>\n",
              "      <td>0.0</td>\n",
              "      <td>6</td>\n",
              "      <td>34</td>\n",
              "      <td>1.0</td>\n",
              "    </tr>\n",
              "  </tbody>\n",
              "</table>\n",
              "<p>5 rows × 35 columns</p>\n",
              "</div>"
            ],
            "text/plain": [
              "    item(t-29)  item(t-28)  item(t-27)  item(t-26)  item(t-25)  item(t-24)   \n",
              "29         1.0         1.0         1.0         1.0         1.0         1.0  \\\n",
              "30         1.0         1.0         1.0         1.0         1.0         1.0   \n",
              "31         1.0         1.0         1.0         1.0         1.0         1.0   \n",
              "32         1.0         1.0         1.0         1.0         1.0         1.0   \n",
              "33         1.0         1.0         1.0         1.0         1.0         1.0   \n",
              "\n",
              "    item(t-23)  item(t-22)  item(t-21)  item(t-20)  ...  item(t-4)  item(t-3)   \n",
              "29         1.0         1.0         1.0         1.0  ...        1.0        1.0  \\\n",
              "30         1.0         1.0         1.0         1.0  ...        1.0        1.0   \n",
              "31         1.0         1.0         1.0         1.0  ...        1.0        1.0   \n",
              "32         1.0         1.0         1.0         1.0  ...        1.0        1.0   \n",
              "33         1.0         1.0         1.0         1.0  ...        1.0        1.0   \n",
              "\n",
              "    item(t-2)  item(t-1)  item  store  sales  dow  doy  item(t+30)  \n",
              "29        1.0        1.0     1      4    0.0    2   30         1.0  \n",
              "30        1.0        1.0     1      4    0.0    3   31         1.0  \n",
              "31        1.0        1.0     1      4    0.0    4   32         1.0  \n",
              "32        1.0        1.0     1      4    0.0    5   33         1.0  \n",
              "33        1.0        1.0     1      4    0.0    6   34         1.0  \n",
              "\n",
              "[5 rows x 35 columns]"
            ]
          },
          "execution_count": 51,
          "metadata": {},
          "output_type": "execute_result"
        }
      ],
      "source": [
        "series2 = series_to_supervised(df_train.drop('date', axis=1), groupby_cols=[\"store\"], value_cols=[\"item\"],\n",
        "                                window=window, lag=future_span, dropnan=True)\n",
        "series2.head()"
      ]
    },
    {
      "cell_type": "code",
      "execution_count": 52,
      "metadata": {},
      "outputs": [
        {
          "data": {
            "text/plain": [
              "109246"
            ]
          },
          "execution_count": 52,
          "metadata": {},
          "output_type": "execute_result"
        }
      ],
      "source": [
        "len(series2)"
      ]
    },
    {
      "cell_type": "code",
      "execution_count": 53,
      "metadata": {
        "id": "7rX8TgaBAHnj"
      },
      "outputs": [],
      "source": [
        "# Utility function to create sequences.\n",
        "def series_to_supervised2(data: pd.DataFrame, window=1, lag=1, dropnan=True):\n",
        "    \"\"\"Use history according to `window` size to predict the future specified in `lag`.\n",
        "    The output is a wide-format dataframe. This method creates (1, ..., window) features for each of the columns in `data`.\n",
        "    \"\"\"\n",
        "    cols, names = list(), list()\n",
        "    # Input sequence (t-n, ... t-1)\n",
        "    for i in range(window, 0, -1):\n",
        "        cols.append(data.shift(i))\n",
        "        names += [('%s(t-%d)' % (col, i)) for col in data.columns]\n",
        "    # Current timestep (t=0)\n",
        "    cols.append(data)\n",
        "    names += [('%s(t)' % (col)) for col in data.columns]\n",
        "    # Target timestep (t=lag)\n",
        "    cols.append(data.shift(-lag))\n",
        "    names += [('%s(t+%d)' % (col, lag)) for col in data.columns]\n",
        "    # Put it all together\n",
        "    agg = pd.concat(cols, axis=1)\n",
        "    agg.columns = names\n",
        "    # Drop rows with NaN values\n",
        "    if dropnan:\n",
        "        agg.dropna(inplace=True)\n",
        "    return agg"
      ]
    },
    {
      "cell_type": "code",
      "execution_count": 54,
      "metadata": {
        "colab": {
          "base_uri": "https://localhost:8080/",
          "height": 317
        },
        "id": "pmrBBoWc19_c",
        "outputId": "314c3ce5-dd25-4360-adf6-e63d67a85916",
        "papermill": {
          "duration": 0.518493,
          "end_time": "2022-10-30T00:44:59.099564",
          "exception": false,
          "start_time": "2022-10-30T00:44:58.581071",
          "status": "completed"
        },
        "tags": [],
        "trusted": true
      },
      "outputs": [
        {
          "data": {
            "text/html": [
              "<div>\n",
              "<style scoped>\n",
              "    .dataframe tbody tr th:only-of-type {\n",
              "        vertical-align: middle;\n",
              "    }\n",
              "\n",
              "    .dataframe tbody tr th {\n",
              "        vertical-align: top;\n",
              "    }\n",
              "\n",
              "    .dataframe thead th {\n",
              "        text-align: right;\n",
              "    }\n",
              "</style>\n",
              "<table border=\"1\" class=\"dataframe\">\n",
              "  <thead>\n",
              "    <tr style=\"text-align: right;\">\n",
              "      <th></th>\n",
              "      <th>item(t-29)</th>\n",
              "      <th>store(t-29)</th>\n",
              "      <th>sales(t-29)</th>\n",
              "      <th>dow(t-29)</th>\n",
              "      <th>doy(t-29)</th>\n",
              "      <th>item(t-28)</th>\n",
              "      <th>store(t-28)</th>\n",
              "      <th>sales(t-28)</th>\n",
              "      <th>dow(t-28)</th>\n",
              "      <th>doy(t-28)</th>\n",
              "      <th>...</th>\n",
              "      <th>item(t)</th>\n",
              "      <th>store(t)</th>\n",
              "      <th>sales(t)</th>\n",
              "      <th>dow(t)</th>\n",
              "      <th>doy(t)</th>\n",
              "      <th>item(t+30)</th>\n",
              "      <th>store(t+30)</th>\n",
              "      <th>sales(t+30)</th>\n",
              "      <th>dow(t+30)</th>\n",
              "      <th>doy(t+30)</th>\n",
              "    </tr>\n",
              "  </thead>\n",
              "  <tbody>\n",
              "    <tr>\n",
              "      <th>0</th>\n",
              "      <td>NaN</td>\n",
              "      <td>NaN</td>\n",
              "      <td>NaN</td>\n",
              "      <td>NaN</td>\n",
              "      <td>NaN</td>\n",
              "      <td>NaN</td>\n",
              "      <td>NaN</td>\n",
              "      <td>NaN</td>\n",
              "      <td>NaN</td>\n",
              "      <td>NaN</td>\n",
              "      <td>...</td>\n",
              "      <td>1</td>\n",
              "      <td>4</td>\n",
              "      <td>0.0</td>\n",
              "      <td>1</td>\n",
              "      <td>1</td>\n",
              "      <td>1.0</td>\n",
              "      <td>4.0</td>\n",
              "      <td>0.0</td>\n",
              "      <td>3.0</td>\n",
              "      <td>31.0</td>\n",
              "    </tr>\n",
              "    <tr>\n",
              "      <th>1</th>\n",
              "      <td>NaN</td>\n",
              "      <td>NaN</td>\n",
              "      <td>NaN</td>\n",
              "      <td>NaN</td>\n",
              "      <td>NaN</td>\n",
              "      <td>NaN</td>\n",
              "      <td>NaN</td>\n",
              "      <td>NaN</td>\n",
              "      <td>NaN</td>\n",
              "      <td>NaN</td>\n",
              "      <td>...</td>\n",
              "      <td>1</td>\n",
              "      <td>4</td>\n",
              "      <td>0.0</td>\n",
              "      <td>2</td>\n",
              "      <td>2</td>\n",
              "      <td>1.0</td>\n",
              "      <td>4.0</td>\n",
              "      <td>0.0</td>\n",
              "      <td>4.0</td>\n",
              "      <td>32.0</td>\n",
              "    </tr>\n",
              "    <tr>\n",
              "      <th>2</th>\n",
              "      <td>NaN</td>\n",
              "      <td>NaN</td>\n",
              "      <td>NaN</td>\n",
              "      <td>NaN</td>\n",
              "      <td>NaN</td>\n",
              "      <td>NaN</td>\n",
              "      <td>NaN</td>\n",
              "      <td>NaN</td>\n",
              "      <td>NaN</td>\n",
              "      <td>NaN</td>\n",
              "      <td>...</td>\n",
              "      <td>1</td>\n",
              "      <td>4</td>\n",
              "      <td>0.0</td>\n",
              "      <td>3</td>\n",
              "      <td>3</td>\n",
              "      <td>1.0</td>\n",
              "      <td>4.0</td>\n",
              "      <td>0.0</td>\n",
              "      <td>5.0</td>\n",
              "      <td>33.0</td>\n",
              "    </tr>\n",
              "    <tr>\n",
              "      <th>3</th>\n",
              "      <td>NaN</td>\n",
              "      <td>NaN</td>\n",
              "      <td>NaN</td>\n",
              "      <td>NaN</td>\n",
              "      <td>NaN</td>\n",
              "      <td>NaN</td>\n",
              "      <td>NaN</td>\n",
              "      <td>NaN</td>\n",
              "      <td>NaN</td>\n",
              "      <td>NaN</td>\n",
              "      <td>...</td>\n",
              "      <td>1</td>\n",
              "      <td>4</td>\n",
              "      <td>0.0</td>\n",
              "      <td>4</td>\n",
              "      <td>4</td>\n",
              "      <td>1.0</td>\n",
              "      <td>4.0</td>\n",
              "      <td>0.0</td>\n",
              "      <td>6.0</td>\n",
              "      <td>34.0</td>\n",
              "    </tr>\n",
              "    <tr>\n",
              "      <th>4</th>\n",
              "      <td>NaN</td>\n",
              "      <td>NaN</td>\n",
              "      <td>NaN</td>\n",
              "      <td>NaN</td>\n",
              "      <td>NaN</td>\n",
              "      <td>NaN</td>\n",
              "      <td>NaN</td>\n",
              "      <td>NaN</td>\n",
              "      <td>NaN</td>\n",
              "      <td>NaN</td>\n",
              "      <td>...</td>\n",
              "      <td>1</td>\n",
              "      <td>4</td>\n",
              "      <td>0.0</td>\n",
              "      <td>5</td>\n",
              "      <td>5</td>\n",
              "      <td>1.0</td>\n",
              "      <td>4.0</td>\n",
              "      <td>0.0</td>\n",
              "      <td>0.0</td>\n",
              "      <td>35.0</td>\n",
              "    </tr>\n",
              "  </tbody>\n",
              "</table>\n",
              "<p>5 rows × 155 columns</p>\n",
              "</div>"
            ],
            "text/plain": [
              "   item(t-29)  store(t-29)  sales(t-29)  dow(t-29)  doy(t-29)  item(t-28)   \n",
              "0         NaN          NaN          NaN        NaN        NaN         NaN  \\\n",
              "1         NaN          NaN          NaN        NaN        NaN         NaN   \n",
              "2         NaN          NaN          NaN        NaN        NaN         NaN   \n",
              "3         NaN          NaN          NaN        NaN        NaN         NaN   \n",
              "4         NaN          NaN          NaN        NaN        NaN         NaN   \n",
              "\n",
              "   store(t-28)  sales(t-28)  dow(t-28)  doy(t-28)  ...  item(t)  store(t)   \n",
              "0          NaN          NaN        NaN        NaN  ...        1         4  \\\n",
              "1          NaN          NaN        NaN        NaN  ...        1         4   \n",
              "2          NaN          NaN        NaN        NaN  ...        1         4   \n",
              "3          NaN          NaN        NaN        NaN  ...        1         4   \n",
              "4          NaN          NaN        NaN        NaN  ...        1         4   \n",
              "\n",
              "   sales(t)  dow(t)  doy(t)  item(t+30)  store(t+30)  sales(t+30)  dow(t+30)   \n",
              "0       0.0       1       1         1.0          4.0          0.0        3.0  \\\n",
              "1       0.0       2       2         1.0          4.0          0.0        4.0   \n",
              "2       0.0       3       3         1.0          4.0          0.0        5.0   \n",
              "3       0.0       4       4         1.0          4.0          0.0        6.0   \n",
              "4       0.0       5       5         1.0          4.0          0.0        0.0   \n",
              "\n",
              "   doy(t+30)  \n",
              "0       31.0  \n",
              "1       32.0  \n",
              "2       33.0  \n",
              "3       34.0  \n",
              "4       35.0  \n",
              "\n",
              "[5 rows x 155 columns]"
            ]
          },
          "execution_count": 54,
          "metadata": {},
          "output_type": "execute_result"
        }
      ],
      "source": [
        "series = series_to_supervised2(df_train.drop('date', axis=1), window=window, lag=future_span, dropnan=False)\n",
        "series.head()"
      ]
    },
    {
      "cell_type": "code",
      "execution_count": 55,
      "metadata": {},
      "outputs": [
        {
          "data": {
            "text/plain": [
              "109600"
            ]
          },
          "execution_count": 55,
          "metadata": {},
          "output_type": "execute_result"
        }
      ],
      "source": [
        "len(series)"
      ]
    },
    {
      "cell_type": "markdown",
      "metadata": {
        "id": "qZphop6H19_c",
        "papermill": {
          "duration": 0.055454,
          "end_time": "2022-10-30T00:44:59.210664",
          "exception": false,
          "start_time": "2022-10-30T00:44:59.15521",
          "status": "completed"
        },
        "tags": []
      },
      "source": [
        "Remove sequences that did not have enough data."
      ]
    },
    {
      "cell_type": "code",
      "execution_count": 56,
      "metadata": {
        "id": "A6Jr6pSk19_c",
        "papermill": {
          "duration": 0.216109,
          "end_time": "2022-10-30T00:44:59.48271",
          "exception": false,
          "start_time": "2022-10-30T00:44:59.266601",
          "status": "completed"
        },
        "tags": [],
        "trusted": true
      },
      "outputs": [],
      "source": [
        "# Remove edge cases, where there were not enough values to complete a series\n",
        "last_item = 'item(t-%d)' % window\n",
        "last_store = 'store(t-%d)' % window\n",
        "last_dow = 'dow(t-%d)' % window\n",
        "last_doy = 'doy(t-%d)' % window\n",
        "series = series[(series['store(t)'] == series[last_store])]\n",
        "series = series[(series['item(t)'] == series[last_item])]\n",
        "#series = series[(series['dow(t)'] == series[last_dow])]\n",
        "#series = series[(series['doy(t)'] == series[last_doy])]"
      ]
    },
    {
      "cell_type": "code",
      "execution_count": 57,
      "metadata": {},
      "outputs": [
        {
          "data": {
            "text/plain": [
              "106700"
            ]
          },
          "execution_count": 57,
          "metadata": {},
          "output_type": "execute_result"
        }
      ],
      "source": [
        "len(series)"
      ]
    },
    {
      "cell_type": "markdown",
      "metadata": {
        "id": "g-gPCgq219_d",
        "papermill": {
          "duration": 0.054919,
          "end_time": "2022-10-30T00:44:59.59376",
          "exception": false,
          "start_time": "2022-10-30T00:44:59.538841",
          "status": "completed"
        },
        "tags": []
      },
      "source": [
        "We will predict with sales, and our engineered features."
      ]
    },
    {
      "cell_type": "code",
      "execution_count": 58,
      "metadata": {
        "id": "PmcT0-wp19_d",
        "papermill": {
          "duration": 7.027593,
          "end_time": "2022-10-30T00:45:06.676317",
          "exception": false,
          "start_time": "2022-10-30T00:44:59.648724",
          "status": "completed"
        },
        "tags": [],
        "trusted": true
      },
      "outputs": [],
      "source": [
        "import numpy as np\n",
        "# from tensorflow.keras.utils import to_categorical\n",
        "\n",
        "def drop_column(df, col):\n",
        "    columns_to_drop = [('%s(t+%d)' % (col, future_span))]\n",
        "    for i in range(window, 0, -1):\n",
        "        columns_to_drop += [('%s(t-%d)' % (col, i))]\n",
        "    df.drop(columns_to_drop, axis=1, inplace=True, errors='ignore')\n",
        "    df.drop([f\"{col}(t)\"], axis=1, inplace=True, errors='ignore')\n",
        "\n",
        "# def cat_seq(df, col):\n",
        "#     return to_categorical(df[col].values)\n",
        "\n",
        "# Label\n",
        "labels_col = 'sales(t+%d)' % future_span\n",
        "labels = series[labels_col]\n",
        "series.drop(labels_col, axis=1, inplace=True)\n",
        "series.drop('item(t+%d)' % future_span, axis=1, inplace=True)\n",
        "series.drop('store(t+%d)' % future_span, axis=1, inplace=True)\n",
        "series.drop('dow(t+%d)' % future_span, axis=1, inplace=True)\n",
        "series.drop('doy(t+%d)' % future_span, axis=1, inplace=True)\n",
        "\n",
        "# Get sales sequences\n",
        "series3 = series.copy()\n",
        "drop_column(series3, \"item\")\n",
        "drop_column(series3, \"store\")\n",
        "drop_column(series3, \"dow\")\n",
        "drop_column(series3, \"doy\")\n",
        "# sales_series is a 2-D array of shape (len(series), len(window) + future_span + day itself)\n",
        "sales_series = series3.values\n",
        "\n",
        "# Day of week as a number\n",
        "series3 = series.copy()\n",
        "drop_column(series3, \"item\")\n",
        "drop_column(series3, \"store\")\n",
        "drop_column(series3, \"doy\")\n",
        "drop_column(series3, \"sales\")\n",
        "dow_series = series3.values\n",
        "\n",
        "# Get day of year sequences\n",
        "series3 = series.copy()\n",
        "drop_column(series3, \"item\")\n",
        "drop_column(series3, \"store\")\n",
        "drop_column(series3, \"dow\")\n",
        "drop_column(series3, \"sales\")\n",
        "doy_series = series3.values\n",
        "\n",
        "t1 = sales_series.reshape(sales_series.shape + (1,))\n",
        "t2 = dow_series.reshape(dow_series.shape + (1,)) \n",
        "t3 = doy_series.reshape(doy_series.shape + (1,))\n",
        "\n",
        "# Create predictors (x)\n",
        "# Create x1, which consists features `sales`, `dow`, `doy`\n",
        "x1 = np.concatenate([t1,t2,t3],axis=2)\n",
        "# Create x2, which is the encoding of items according to the word2vec model\n",
        "vec_size = w2vec_model['test'].shape[0]\n",
        "lst = []\n",
        "for item in list(series['item(t-1)']):\n",
        "    lst.append(item_lookup[item])\n",
        "x2 = np.concatenate(lst).reshape((series.shape[0],vec_size))\n",
        "\n",
        "# Combine all features\n",
        "x = [x1,x2]"
      ]
    },
    {
      "cell_type": "code",
      "execution_count": 59,
      "metadata": {},
      "outputs": [
        {
          "data": {
            "text/plain": [
              "29        0.0\n",
              "30        0.0\n",
              "31        0.0\n",
              "32        0.0\n",
              "33        0.0\n",
              "         ... \n",
              "109595    NaN\n",
              "109596    NaN\n",
              "109597    NaN\n",
              "109598    NaN\n",
              "109599    NaN\n",
              "Name: sales(t+30), Length: 106700, dtype: float64"
            ]
          },
          "execution_count": 59,
          "metadata": {},
          "output_type": "execute_result"
        }
      ],
      "source": [
        "labels"
      ]
    },
    {
      "cell_type": "code",
      "execution_count": 60,
      "metadata": {
        "id": "w7oG-h0c19_d",
        "trusted": true
      },
      "outputs": [
        {
          "data": {
            "text/plain": [
              "array([[0., 0., 0., ..., 0., 0., 0.],\n",
              "       [0., 0., 0., ..., 0., 0., 0.],\n",
              "       [0., 0., 0., ..., 0., 0., 0.],\n",
              "       ...,\n",
              "       [0., 0., 0., ..., 0., 0., 0.],\n",
              "       [0., 0., 0., ..., 0., 0., 0.],\n",
              "       [0., 0., 0., ..., 0., 0., 0.]])"
            ]
          },
          "execution_count": 60,
          "metadata": {},
          "output_type": "execute_result"
        }
      ],
      "source": [
        "sales_series"
      ]
    },
    {
      "cell_type": "code",
      "execution_count": 61,
      "metadata": {
        "id": "sJWbGU4w19_d",
        "papermill": {
          "duration": 0.06766,
          "end_time": "2022-10-30T00:45:06.800302",
          "exception": false,
          "start_time": "2022-10-30T00:45:06.732642",
          "status": "completed"
        },
        "tags": [],
        "trusted": true
      },
      "outputs": [
        {
          "name": "stdout",
          "output_type": "stream",
          "text": [
            "(106700, 30, 1)\n",
            "(106700, 30, 1)\n",
            "(106700, 30, 1)\n"
          ]
        }
      ],
      "source": [
        "print(t1.shape)\n",
        "print(t2.shape)\n",
        "print(t3.shape)"
      ]
    },
    {
      "cell_type": "markdown",
      "metadata": {
        "id": "mzyyOeGj19_d",
        "papermill": {
          "duration": 0.055759,
          "end_time": "2022-10-30T00:45:06.911618",
          "exception": false,
          "start_time": "2022-10-30T00:45:06.855859",
          "status": "completed"
        },
        "tags": []
      },
      "source": [
        "Extract the predictors (x sequences) and the label (future prediction)"
      ]
    },
    {
      "cell_type": "code",
      "execution_count": 62,
      "metadata": {
        "id": "yopiYsLv19_e",
        "papermill": {
          "duration": 0.229307,
          "end_time": "2022-10-30T00:45:07.196941",
          "exception": false,
          "start_time": "2022-10-30T00:45:06.967634",
          "status": "completed"
        },
        "tags": [],
        "trusted": true
      },
      "outputs": [
        {
          "name": "stdout",
          "output_type": "stream",
          "text": [
            "Train set shape x1: (63873, 30, 3)\n",
            "Train set shape x2: (63873, 300)\n",
            "Validation set shape x1: (42827, 30, 3)\n",
            "Validation set shape x2: (42827, 300)\n"
          ]
        }
      ],
      "source": [
        "TEST_SIZE = 0.4\n",
        "\n",
        "mask = np.random.random(size=x[0].shape[0])<TEST_SIZE\n",
        "\n",
        "X_train = []\n",
        "X_valid = []\n",
        "\n",
        "for subx in x:\n",
        "    X_train.append(subx[~mask])\n",
        "    X_valid.append(subx[mask])\n",
        "\n",
        "Y_train = labels.values[~mask]\n",
        "Y_valid = labels.values[mask]\n",
        "\n",
        "print('Train set shape x1:', X_train[0].shape)\n",
        "print('Train set shape x2:', X_train[1].shape)\n",
        "print('Validation set shape x1:', X_valid[0].shape)\n",
        "print('Validation set shape x2:', X_valid[1].shape)"
      ]
    },
    {
      "cell_type": "markdown",
      "metadata": {
        "id": "D5eUFSAD19_e",
        "papermill": {
          "duration": 0.136356,
          "end_time": "2022-10-30T00:45:07.392779",
          "exception": false,
          "start_time": "2022-10-30T00:45:07.256423",
          "status": "completed"
        },
        "tags": []
      },
      "source": [
        "Construct the neural network."
      ]
    },
    {
      "cell_type": "code",
      "execution_count": 63,
      "metadata": {
        "id": "2P4ARAUd19_e",
        "papermill": {
          "duration": 0.683729,
          "end_time": "2022-10-30T00:45:08.133004",
          "exception": false,
          "start_time": "2022-10-30T00:45:07.449275",
          "status": "completed"
        },
        "tags": [],
        "trusted": true
      },
      "outputs": [
        {
          "name": "stdout",
          "output_type": "stream",
          "text": [
            "Model: \"model_1\"\n",
            "__________________________________________________________________________________________________\n",
            "Layer (type)                    Output Shape         Param #     Connected to                     \n",
            "==================================================================================================\n",
            "A1 (InputLayer)                 [(None, 30, 3)]      0                                            \n",
            "__________________________________________________________________________________________________\n",
            "conv1d_1 (Conv1D)               (None, 23, 64)       1600        A1[0][0]                         \n",
            "__________________________________________________________________________________________________\n",
            "max_pooling1d_1 (MaxPooling1D)  (None, 11, 64)       0           conv1d_1[0][0]                   \n",
            "__________________________________________________________________________________________________\n",
            "flatten_1 (Flatten)             (None, 704)          0           max_pooling1d_1[0][0]            \n",
            "__________________________________________________________________________________________________\n",
            "dense_1 (Dense)                 (None, 50)           35250       flatten_1[0][0]                  \n",
            "__________________________________________________________________________________________________\n",
            "B1 (InputLayer)                 [(None, 300)]        0                                            \n",
            "__________________________________________________________________________________________________\n",
            "dropout_1 (Dropout)             (None, 50)           0           dense_1[0][0]                    \n",
            "__________________________________________________________________________________________________\n",
            "B2 (Dense)                      (None, 16)           4816        B1[0][0]                         \n",
            "__________________________________________________________________________________________________\n",
            "concatenate_1 (Concatenate)     (None, 66)           0           dropout_1[0][0]                  \n",
            "                                                                 B2[0][0]                         \n",
            "__________________________________________________________________________________________________\n",
            "M2 (Dense)                      (None, 1)            67          concatenate_1[0][0]              \n",
            "==================================================================================================\n",
            "Total params: 41,733\n",
            "Trainable params: 41,733\n",
            "Non-trainable params: 0\n",
            "__________________________________________________________________________________________________\n"
          ]
        }
      ],
      "source": [
        "import tensorflow as tf \n",
        "from keras.models import Sequential, Model\n",
        "from keras.layers.convolutional import Conv1D, MaxPooling1D\n",
        "from keras.layers import Dense, LSTM, RepeatVector, TimeDistributed, Flatten, Dropout, concatenate, Input\n",
        "import keras\n",
        "\n",
        "epochs = 500\n",
        "batch = 256\n",
        "lr = 0.0003\n",
        "adam = tf.keras.optimizers.Adam(lr)\n",
        "\n",
        "model = Sequential()\n",
        "\n",
        "A1 = Input(shape=(X_train[0].shape[1], X_train[0].shape[2]),name='A1')\n",
        "A2 = Conv1D(filters=64, kernel_size=8, activation='relu')(A1)\n",
        "A3 = MaxPooling1D(pool_size=2)(A2)\n",
        "A4 = Flatten()(A3)\n",
        "A5 = Dense(50, activation='relu')(A4)\n",
        "A6 = Dropout(0.2)(A5)\n",
        "\n",
        "B1 = Input(shape=X_train[1].shape[1],name='B1')\n",
        "B2 = Dense(16, activation='relu',name='B2')(B1)\n",
        "\n",
        "M1 = concatenate([A6,B2])\n",
        "M2 = Dense(1,name='M2')(M1)\n",
        "\n",
        "model = Model(inputs=[A1, B1],outputs=[M2])\n",
        "model.compile(loss='mse', optimizer=adam)\n",
        "model.summary()"
      ]
    },
    {
      "cell_type": "markdown",
      "metadata": {
        "id": "BVjdJle319_e",
        "papermill": {
          "duration": 0.056935,
          "end_time": "2022-10-30T00:45:08.251046",
          "exception": false,
          "start_time": "2022-10-30T00:45:08.194111",
          "status": "completed"
        },
        "tags": []
      },
      "source": [
        "Fit the neural network."
      ]
    },
    {
      "cell_type": "code",
      "execution_count": 64,
      "metadata": {
        "id": "A4OTIask19_e",
        "papermill": {
          "duration": 162.254246,
          "end_time": "2022-10-30T00:47:50.564167",
          "exception": false,
          "start_time": "2022-10-30T00:45:08.309921",
          "status": "completed"
        },
        "tags": [],
        "trusted": true
      },
      "outputs": [
        {
          "name": "stdout",
          "output_type": "stream",
          "text": [
            "Epoch 1/500\n",
            "1997/1997 - 3s - loss: nan - val_loss: nan\n",
            "Epoch 2/500\n",
            "1997/1997 - 3s - loss: nan - val_loss: nan\n",
            "Epoch 3/500\n",
            "1997/1997 - 3s - loss: nan - val_loss: nan\n",
            "Epoch 4/500\n",
            "1997/1997 - 3s - loss: nan - val_loss: nan\n",
            "Epoch 5/500\n",
            "1997/1997 - 3s - loss: nan - val_loss: nan\n",
            "Restoring model weights from the end of the best epoch.\n"
          ]
        },
        {
          "ename": "TypeError",
          "evalue": "object of type 'NoneType' has no len()",
          "output_type": "error",
          "traceback": [
            "\u001b[0;31m---------------------------------------------------------------------------\u001b[0m",
            "\u001b[0;31mTypeError\u001b[0m                                 Traceback (most recent call last)",
            "Cell \u001b[0;32mIn[64], line 6\u001b[0m\n\u001b[1;32m      1\u001b[0m \u001b[38;5;28;01mfrom\u001b[39;00m \u001b[38;5;21;01mtensorflow\u001b[39;00m\u001b[38;5;21;01m.\u001b[39;00m\u001b[38;5;21;01mkeras\u001b[39;00m\u001b[38;5;21;01m.\u001b[39;00m\u001b[38;5;21;01mcallbacks\u001b[39;00m \u001b[38;5;28;01mimport\u001b[39;00m EarlyStopping\n\u001b[1;32m      3\u001b[0m monitor \u001b[38;5;241m=\u001b[39m EarlyStopping(monitor\u001b[38;5;241m=\u001b[39m\u001b[38;5;124m'\u001b[39m\u001b[38;5;124mval_loss\u001b[39m\u001b[38;5;124m'\u001b[39m, min_delta\u001b[38;5;241m=\u001b[39m\u001b[38;5;241m1e-3\u001b[39m, patience\u001b[38;5;241m=\u001b[39m\u001b[38;5;241m5\u001b[39m, \n\u001b[1;32m      4\u001b[0m         verbose\u001b[38;5;241m=\u001b[39m\u001b[38;5;241m1\u001b[39m, mode\u001b[38;5;241m=\u001b[39m\u001b[38;5;124m'\u001b[39m\u001b[38;5;124mauto\u001b[39m\u001b[38;5;124m'\u001b[39m, restore_best_weights\u001b[38;5;241m=\u001b[39m\u001b[38;5;28;01mTrue\u001b[39;00m)\n\u001b[0;32m----> 6\u001b[0m cnn_history \u001b[38;5;241m=\u001b[39m \u001b[43mmodel\u001b[49m\u001b[38;5;241;43m.\u001b[39;49m\u001b[43mfit\u001b[49m\u001b[43m(\u001b[49m\u001b[43mX_train\u001b[49m\u001b[43m,\u001b[49m\u001b[43m \u001b[49m\u001b[43mY_train\u001b[49m\u001b[43m,\u001b[49m\u001b[43m \u001b[49m\u001b[43mcallbacks\u001b[49m\u001b[38;5;241;43m=\u001b[39;49m\u001b[43m[\u001b[49m\u001b[43mmonitor\u001b[49m\u001b[43m]\u001b[49m\u001b[43m,\u001b[49m\n\u001b[1;32m      7\u001b[0m \u001b[43m    \u001b[49m\u001b[43mvalidation_data\u001b[49m\u001b[38;5;241;43m=\u001b[39;49m\u001b[43m(\u001b[49m\u001b[43mX_valid\u001b[49m\u001b[43m,\u001b[49m\u001b[43m \u001b[49m\u001b[43mY_valid\u001b[49m\u001b[43m)\u001b[49m\u001b[43m,\u001b[49m\u001b[43m \u001b[49m\u001b[43mepochs\u001b[49m\u001b[38;5;241;43m=\u001b[39;49m\u001b[43mepochs\u001b[49m\u001b[43m,\u001b[49m\u001b[43m \u001b[49m\u001b[43mverbose\u001b[49m\u001b[38;5;241;43m=\u001b[39;49m\u001b[38;5;241;43m2\u001b[39;49m\u001b[43m)\u001b[49m\n",
            "File \u001b[0;32m~/opt/anaconda3/envs/py39/lib/python3.9/site-packages/tensorflow/python/keras/engine/training.py:1145\u001b[0m, in \u001b[0;36mModel.fit\u001b[0;34m(self, x, y, batch_size, epochs, verbose, callbacks, validation_split, validation_data, shuffle, class_weight, sample_weight, initial_epoch, steps_per_epoch, validation_steps, validation_batch_size, validation_freq, max_queue_size, workers, use_multiprocessing)\u001b[0m\n\u001b[1;32m   <a href='file:///Users/snour15/opt/anaconda3/envs/py39/lib/python3.9/site-packages/tensorflow/python/keras/engine/training.py?line=1141'>1142</a>\u001b[0m   val_logs \u001b[39m=\u001b[39m {\u001b[39m'\u001b[39m\u001b[39mval_\u001b[39m\u001b[39m'\u001b[39m \u001b[39m+\u001b[39m name: val \u001b[39mfor\u001b[39;00m name, val \u001b[39min\u001b[39;00m val_logs\u001b[39m.\u001b[39mitems()}\n\u001b[1;32m   <a href='file:///Users/snour15/opt/anaconda3/envs/py39/lib/python3.9/site-packages/tensorflow/python/keras/engine/training.py?line=1142'>1143</a>\u001b[0m   epoch_logs\u001b[39m.\u001b[39mupdate(val_logs)\n\u001b[0;32m-> <a href='file:///Users/snour15/opt/anaconda3/envs/py39/lib/python3.9/site-packages/tensorflow/python/keras/engine/training.py?line=1144'>1145</a>\u001b[0m callbacks\u001b[39m.\u001b[39;49mon_epoch_end(epoch, epoch_logs)\n\u001b[1;32m   <a href='file:///Users/snour15/opt/anaconda3/envs/py39/lib/python3.9/site-packages/tensorflow/python/keras/engine/training.py?line=1145'>1146</a>\u001b[0m training_logs \u001b[39m=\u001b[39m epoch_logs\n\u001b[1;32m   <a href='file:///Users/snour15/opt/anaconda3/envs/py39/lib/python3.9/site-packages/tensorflow/python/keras/engine/training.py?line=1146'>1147</a>\u001b[0m \u001b[39mif\u001b[39;00m \u001b[39mself\u001b[39m\u001b[39m.\u001b[39mstop_training:\n",
            "File \u001b[0;32m~/opt/anaconda3/envs/py39/lib/python3.9/site-packages/tensorflow/python/keras/callbacks.py:432\u001b[0m, in \u001b[0;36mCallbackList.on_epoch_end\u001b[0;34m(self, epoch, logs)\u001b[0m\n\u001b[1;32m    <a href='file:///Users/snour15/opt/anaconda3/envs/py39/lib/python3.9/site-packages/tensorflow/python/keras/callbacks.py?line=429'>430</a>\u001b[0m \u001b[39mif\u001b[39;00m numpy_logs \u001b[39mis\u001b[39;00m \u001b[39mNone\u001b[39;00m:  \u001b[39m# Only convert once.\u001b[39;00m\n\u001b[1;32m    <a href='file:///Users/snour15/opt/anaconda3/envs/py39/lib/python3.9/site-packages/tensorflow/python/keras/callbacks.py?line=430'>431</a>\u001b[0m   numpy_logs \u001b[39m=\u001b[39m tf_utils\u001b[39m.\u001b[39mto_numpy_or_python_type(logs)\n\u001b[0;32m--> <a href='file:///Users/snour15/opt/anaconda3/envs/py39/lib/python3.9/site-packages/tensorflow/python/keras/callbacks.py?line=431'>432</a>\u001b[0m callback\u001b[39m.\u001b[39;49mon_epoch_end(epoch, numpy_logs)\n",
            "File \u001b[0;32m~/opt/anaconda3/envs/py39/lib/python3.9/site-packages/tensorflow/python/keras/callbacks.py:1778\u001b[0m, in \u001b[0;36mEarlyStopping.on_epoch_end\u001b[0;34m(self, epoch, logs)\u001b[0m\n\u001b[1;32m   <a href='file:///Users/snour15/opt/anaconda3/envs/py39/lib/python3.9/site-packages/tensorflow/python/keras/callbacks.py?line=1775'>1776</a>\u001b[0m \u001b[39mif\u001b[39;00m \u001b[39mself\u001b[39m\u001b[39m.\u001b[39mverbose \u001b[39m>\u001b[39m \u001b[39m0\u001b[39m:\n\u001b[1;32m   <a href='file:///Users/snour15/opt/anaconda3/envs/py39/lib/python3.9/site-packages/tensorflow/python/keras/callbacks.py?line=1776'>1777</a>\u001b[0m   \u001b[39mprint\u001b[39m(\u001b[39m'\u001b[39m\u001b[39mRestoring model weights from the end of the best epoch.\u001b[39m\u001b[39m'\u001b[39m)\n\u001b[0;32m-> <a href='file:///Users/snour15/opt/anaconda3/envs/py39/lib/python3.9/site-packages/tensorflow/python/keras/callbacks.py?line=1777'>1778</a>\u001b[0m \u001b[39mself\u001b[39;49m\u001b[39m.\u001b[39;49mmodel\u001b[39m.\u001b[39;49mset_weights(\u001b[39mself\u001b[39;49m\u001b[39m.\u001b[39;49mbest_weights)\n",
            "File \u001b[0;32m~/opt/anaconda3/envs/py39/lib/python3.9/site-packages/tensorflow/python/keras/engine/base_layer.py:1852\u001b[0m, in \u001b[0;36mLayer.set_weights\u001b[0;34m(self, weights)\u001b[0m\n\u001b[1;32m   <a href='file:///Users/snour15/opt/anaconda3/envs/py39/lib/python3.9/site-packages/tensorflow/python/keras/engine/base_layer.py?line=1848'>1849</a>\u001b[0m   \u001b[39melse\u001b[39;00m:\n\u001b[1;32m   <a href='file:///Users/snour15/opt/anaconda3/envs/py39/lib/python3.9/site-packages/tensorflow/python/keras/engine/base_layer.py?line=1849'>1850</a>\u001b[0m     expected_num_weights \u001b[39m+\u001b[39m\u001b[39m=\u001b[39m \u001b[39m1\u001b[39m\n\u001b[0;32m-> <a href='file:///Users/snour15/opt/anaconda3/envs/py39/lib/python3.9/site-packages/tensorflow/python/keras/engine/base_layer.py?line=1851'>1852</a>\u001b[0m \u001b[39mif\u001b[39;00m expected_num_weights \u001b[39m!=\u001b[39m \u001b[39mlen\u001b[39;49m(weights):\n\u001b[1;32m   <a href='file:///Users/snour15/opt/anaconda3/envs/py39/lib/python3.9/site-packages/tensorflow/python/keras/engine/base_layer.py?line=1852'>1853</a>\u001b[0m   \u001b[39mraise\u001b[39;00m \u001b[39mValueError\u001b[39;00m(\n\u001b[1;32m   <a href='file:///Users/snour15/opt/anaconda3/envs/py39/lib/python3.9/site-packages/tensorflow/python/keras/engine/base_layer.py?line=1853'>1854</a>\u001b[0m       \u001b[39m'\u001b[39m\u001b[39mYou called `set_weights(weights)` on layer \u001b[39m\u001b[39m\"\u001b[39m\u001b[39m%s\u001b[39;00m\u001b[39m\"\u001b[39m\u001b[39m \u001b[39m\u001b[39m'\u001b[39m\n\u001b[1;32m   <a href='file:///Users/snour15/opt/anaconda3/envs/py39/lib/python3.9/site-packages/tensorflow/python/keras/engine/base_layer.py?line=1854'>1855</a>\u001b[0m       \u001b[39m'\u001b[39m\u001b[39mwith a weight list of length \u001b[39m\u001b[39m%s\u001b[39;00m\u001b[39m, but the layer was \u001b[39m\u001b[39m'\u001b[39m\n\u001b[1;32m   <a href='file:///Users/snour15/opt/anaconda3/envs/py39/lib/python3.9/site-packages/tensorflow/python/keras/engine/base_layer.py?line=1855'>1856</a>\u001b[0m       \u001b[39m'\u001b[39m\u001b[39mexpecting \u001b[39m\u001b[39m%s\u001b[39;00m\u001b[39m weights. Provided weights: \u001b[39m\u001b[39m%s\u001b[39;00m\u001b[39m...\u001b[39m\u001b[39m'\u001b[39m \u001b[39m%\u001b[39m\n\u001b[1;32m   <a href='file:///Users/snour15/opt/anaconda3/envs/py39/lib/python3.9/site-packages/tensorflow/python/keras/engine/base_layer.py?line=1856'>1857</a>\u001b[0m       (\u001b[39mself\u001b[39m\u001b[39m.\u001b[39mname, \u001b[39mlen\u001b[39m(weights), expected_num_weights, \u001b[39mstr\u001b[39m(weights)[:\u001b[39m50\u001b[39m]))\n\u001b[1;32m   <a href='file:///Users/snour15/opt/anaconda3/envs/py39/lib/python3.9/site-packages/tensorflow/python/keras/engine/base_layer.py?line=1858'>1859</a>\u001b[0m weight_index \u001b[39m=\u001b[39m \u001b[39m0\u001b[39m\n",
            "\u001b[0;31mTypeError\u001b[0m: object of type 'NoneType' has no len()"
          ]
        }
      ],
      "source": [
        "from tensorflow.keras.callbacks import EarlyStopping\n",
        "\n",
        "monitor = EarlyStopping(monitor='val_loss', min_delta=1e-3, patience=5, \n",
        "        verbose=1, mode='auto', restore_best_weights=True)\n",
        "\n",
        "cnn_history = model.fit(X_train, Y_train, callbacks=[monitor],\n",
        "    validation_data=(X_valid, Y_valid), epochs=epochs, verbose=2)"
      ]
    },
    {
      "cell_type": "markdown",
      "metadata": {
        "id": "duJqjLaJ19_e",
        "papermill": {
          "duration": 0.058508,
          "end_time": "2022-10-30T00:47:50.681722",
          "exception": false,
          "start_time": "2022-10-30T00:47:50.623214",
          "status": "completed"
        },
        "tags": []
      },
      "source": [
        "Predict and evaluate the validation data."
      ]
    },
    {
      "cell_type": "code",
      "execution_count": 46,
      "metadata": {
        "id": "FbA9ePVz19_f",
        "papermill": {
          "duration": 45.330405,
          "end_time": "2022-10-30T00:48:36.070993",
          "exception": false,
          "start_time": "2022-10-30T00:47:50.740588",
          "status": "completed"
        },
        "tags": [],
        "trusted": true
      },
      "outputs": [
        {
          "ename": "ValueError",
          "evalue": "Input contains NaN.",
          "output_type": "error",
          "traceback": [
            "\u001b[0;31m---------------------------------------------------------------------------\u001b[0m",
            "\u001b[0;31mValueError\u001b[0m                                Traceback (most recent call last)",
            "Cell \u001b[0;32mIn[46], line 6\u001b[0m\n\u001b[1;32m      4\u001b[0m cnn_train_pred \u001b[38;5;241m=\u001b[39m model\u001b[38;5;241m.\u001b[39mpredict(X_train)\n\u001b[1;32m      5\u001b[0m cnn_valid_pred \u001b[38;5;241m=\u001b[39m model\u001b[38;5;241m.\u001b[39mpredict(X_valid)\n\u001b[0;32m----> 6\u001b[0m \u001b[38;5;28mprint\u001b[39m(\u001b[38;5;124m'\u001b[39m\u001b[38;5;124mTrain rmse:\u001b[39m\u001b[38;5;124m'\u001b[39m, np\u001b[38;5;241m.\u001b[39msqrt(\u001b[43mmean_squared_error\u001b[49m\u001b[43m(\u001b[49m\u001b[43mY_train\u001b[49m\u001b[43m,\u001b[49m\u001b[43m \u001b[49m\u001b[43mcnn_train_pred\u001b[49m\u001b[43m)\u001b[49m))\n\u001b[1;32m      7\u001b[0m \u001b[38;5;28mprint\u001b[39m(\u001b[38;5;124m'\u001b[39m\u001b[38;5;124mValidation rmse:\u001b[39m\u001b[38;5;124m'\u001b[39m, np\u001b[38;5;241m.\u001b[39msqrt(mean_squared_error(Y_valid, cnn_valid_pred)))\n",
            "File \u001b[0;32m~/opt/anaconda3/envs/py39/lib/python3.9/site-packages/sklearn/metrics/_regression.py:442\u001b[0m, in \u001b[0;36mmean_squared_error\u001b[0;34m(y_true, y_pred, sample_weight, multioutput, squared)\u001b[0m\n\u001b[1;32m    <a href='file:///Users/snour15/opt/anaconda3/envs/py39/lib/python3.9/site-packages/sklearn/metrics/_regression.py?line=381'>382</a>\u001b[0m \u001b[39mdef\u001b[39;00m \u001b[39mmean_squared_error\u001b[39m(\n\u001b[1;32m    <a href='file:///Users/snour15/opt/anaconda3/envs/py39/lib/python3.9/site-packages/sklearn/metrics/_regression.py?line=382'>383</a>\u001b[0m     y_true, y_pred, \u001b[39m*\u001b[39m, sample_weight\u001b[39m=\u001b[39m\u001b[39mNone\u001b[39;00m, multioutput\u001b[39m=\u001b[39m\u001b[39m\"\u001b[39m\u001b[39muniform_average\u001b[39m\u001b[39m\"\u001b[39m, squared\u001b[39m=\u001b[39m\u001b[39mTrue\u001b[39;00m\n\u001b[1;32m    <a href='file:///Users/snour15/opt/anaconda3/envs/py39/lib/python3.9/site-packages/sklearn/metrics/_regression.py?line=383'>384</a>\u001b[0m ):\n\u001b[1;32m    <a href='file:///Users/snour15/opt/anaconda3/envs/py39/lib/python3.9/site-packages/sklearn/metrics/_regression.py?line=384'>385</a>\u001b[0m     \u001b[39m\"\"\"Mean squared error regression loss.\u001b[39;00m\n\u001b[1;32m    <a href='file:///Users/snour15/opt/anaconda3/envs/py39/lib/python3.9/site-packages/sklearn/metrics/_regression.py?line=385'>386</a>\u001b[0m \n\u001b[1;32m    <a href='file:///Users/snour15/opt/anaconda3/envs/py39/lib/python3.9/site-packages/sklearn/metrics/_regression.py?line=386'>387</a>\u001b[0m \u001b[39m    Read more in the :ref:`User Guide <mean_squared_error>`.\u001b[39;00m\n\u001b[0;32m   (...)\u001b[0m\n\u001b[1;32m    <a href='file:///Users/snour15/opt/anaconda3/envs/py39/lib/python3.9/site-packages/sklearn/metrics/_regression.py?line=439'>440</a>\u001b[0m \u001b[39m    0.825...\u001b[39;00m\n\u001b[1;32m    <a href='file:///Users/snour15/opt/anaconda3/envs/py39/lib/python3.9/site-packages/sklearn/metrics/_regression.py?line=440'>441</a>\u001b[0m \u001b[39m    \"\"\"\u001b[39;00m\n\u001b[0;32m--> <a href='file:///Users/snour15/opt/anaconda3/envs/py39/lib/python3.9/site-packages/sklearn/metrics/_regression.py?line=441'>442</a>\u001b[0m     y_type, y_true, y_pred, multioutput \u001b[39m=\u001b[39m _check_reg_targets(\n\u001b[1;32m    <a href='file:///Users/snour15/opt/anaconda3/envs/py39/lib/python3.9/site-packages/sklearn/metrics/_regression.py?line=442'>443</a>\u001b[0m         y_true, y_pred, multioutput\n\u001b[1;32m    <a href='file:///Users/snour15/opt/anaconda3/envs/py39/lib/python3.9/site-packages/sklearn/metrics/_regression.py?line=443'>444</a>\u001b[0m     )\n\u001b[1;32m    <a href='file:///Users/snour15/opt/anaconda3/envs/py39/lib/python3.9/site-packages/sklearn/metrics/_regression.py?line=444'>445</a>\u001b[0m     check_consistent_length(y_true, y_pred, sample_weight)\n\u001b[1;32m    <a href='file:///Users/snour15/opt/anaconda3/envs/py39/lib/python3.9/site-packages/sklearn/metrics/_regression.py?line=445'>446</a>\u001b[0m     output_errors \u001b[39m=\u001b[39m np\u001b[39m.\u001b[39maverage((y_true \u001b[39m-\u001b[39m y_pred) \u001b[39m*\u001b[39m\u001b[39m*\u001b[39m \u001b[39m2\u001b[39m, axis\u001b[39m=\u001b[39m\u001b[39m0\u001b[39m, weights\u001b[39m=\u001b[39msample_weight)\n",
            "File \u001b[0;32m~/opt/anaconda3/envs/py39/lib/python3.9/site-packages/sklearn/metrics/_regression.py:101\u001b[0m, in \u001b[0;36m_check_reg_targets\u001b[0;34m(y_true, y_pred, multioutput, dtype)\u001b[0m\n\u001b[1;32m     <a href='file:///Users/snour15/opt/anaconda3/envs/py39/lib/python3.9/site-packages/sklearn/metrics/_regression.py?line=66'>67</a>\u001b[0m \u001b[39m\"\"\"Check that y_true and y_pred belong to the same regression task.\u001b[39;00m\n\u001b[1;32m     <a href='file:///Users/snour15/opt/anaconda3/envs/py39/lib/python3.9/site-packages/sklearn/metrics/_regression.py?line=67'>68</a>\u001b[0m \n\u001b[1;32m     <a href='file:///Users/snour15/opt/anaconda3/envs/py39/lib/python3.9/site-packages/sklearn/metrics/_regression.py?line=68'>69</a>\u001b[0m \u001b[39mParameters\u001b[39;00m\n\u001b[0;32m   (...)\u001b[0m\n\u001b[1;32m     <a href='file:///Users/snour15/opt/anaconda3/envs/py39/lib/python3.9/site-packages/sklearn/metrics/_regression.py?line=97'>98</a>\u001b[0m \u001b[39m    correct keyword.\u001b[39;00m\n\u001b[1;32m     <a href='file:///Users/snour15/opt/anaconda3/envs/py39/lib/python3.9/site-packages/sklearn/metrics/_regression.py?line=98'>99</a>\u001b[0m \u001b[39m\"\"\"\u001b[39;00m\n\u001b[1;32m    <a href='file:///Users/snour15/opt/anaconda3/envs/py39/lib/python3.9/site-packages/sklearn/metrics/_regression.py?line=99'>100</a>\u001b[0m check_consistent_length(y_true, y_pred)\n\u001b[0;32m--> <a href='file:///Users/snour15/opt/anaconda3/envs/py39/lib/python3.9/site-packages/sklearn/metrics/_regression.py?line=100'>101</a>\u001b[0m y_true \u001b[39m=\u001b[39m check_array(y_true, ensure_2d\u001b[39m=\u001b[39;49m\u001b[39mFalse\u001b[39;49;00m, dtype\u001b[39m=\u001b[39;49mdtype)\n\u001b[1;32m    <a href='file:///Users/snour15/opt/anaconda3/envs/py39/lib/python3.9/site-packages/sklearn/metrics/_regression.py?line=101'>102</a>\u001b[0m y_pred \u001b[39m=\u001b[39m check_array(y_pred, ensure_2d\u001b[39m=\u001b[39m\u001b[39mFalse\u001b[39;00m, dtype\u001b[39m=\u001b[39mdtype)\n\u001b[1;32m    <a href='file:///Users/snour15/opt/anaconda3/envs/py39/lib/python3.9/site-packages/sklearn/metrics/_regression.py?line=103'>104</a>\u001b[0m \u001b[39mif\u001b[39;00m y_true\u001b[39m.\u001b[39mndim \u001b[39m==\u001b[39m \u001b[39m1\u001b[39m:\n",
            "File \u001b[0;32m~/opt/anaconda3/envs/py39/lib/python3.9/site-packages/sklearn/utils/validation.py:921\u001b[0m, in \u001b[0;36mcheck_array\u001b[0;34m(array, accept_sparse, accept_large_sparse, dtype, order, copy, force_all_finite, ensure_2d, allow_nd, ensure_min_samples, ensure_min_features, estimator, input_name)\u001b[0m\n\u001b[1;32m    <a href='file:///Users/snour15/opt/anaconda3/envs/py39/lib/python3.9/site-packages/sklearn/utils/validation.py?line=914'>915</a>\u001b[0m         \u001b[39mraise\u001b[39;00m \u001b[39mValueError\u001b[39;00m(\n\u001b[1;32m    <a href='file:///Users/snour15/opt/anaconda3/envs/py39/lib/python3.9/site-packages/sklearn/utils/validation.py?line=915'>916</a>\u001b[0m             \u001b[39m\"\u001b[39m\u001b[39mFound array with dim \u001b[39m\u001b[39m%d\u001b[39;00m\u001b[39m. \u001b[39m\u001b[39m%s\u001b[39;00m\u001b[39m expected <= 2.\u001b[39m\u001b[39m\"\u001b[39m\n\u001b[1;32m    <a href='file:///Users/snour15/opt/anaconda3/envs/py39/lib/python3.9/site-packages/sklearn/utils/validation.py?line=916'>917</a>\u001b[0m             \u001b[39m%\u001b[39m (array\u001b[39m.\u001b[39mndim, estimator_name)\n\u001b[1;32m    <a href='file:///Users/snour15/opt/anaconda3/envs/py39/lib/python3.9/site-packages/sklearn/utils/validation.py?line=917'>918</a>\u001b[0m         )\n\u001b[1;32m    <a href='file:///Users/snour15/opt/anaconda3/envs/py39/lib/python3.9/site-packages/sklearn/utils/validation.py?line=919'>920</a>\u001b[0m     \u001b[39mif\u001b[39;00m force_all_finite:\n\u001b[0;32m--> <a href='file:///Users/snour15/opt/anaconda3/envs/py39/lib/python3.9/site-packages/sklearn/utils/validation.py?line=920'>921</a>\u001b[0m         _assert_all_finite(\n\u001b[1;32m    <a href='file:///Users/snour15/opt/anaconda3/envs/py39/lib/python3.9/site-packages/sklearn/utils/validation.py?line=921'>922</a>\u001b[0m             array,\n\u001b[1;32m    <a href='file:///Users/snour15/opt/anaconda3/envs/py39/lib/python3.9/site-packages/sklearn/utils/validation.py?line=922'>923</a>\u001b[0m             input_name\u001b[39m=\u001b[39;49minput_name,\n\u001b[1;32m    <a href='file:///Users/snour15/opt/anaconda3/envs/py39/lib/python3.9/site-packages/sklearn/utils/validation.py?line=923'>924</a>\u001b[0m             estimator_name\u001b[39m=\u001b[39;49mestimator_name,\n\u001b[1;32m    <a href='file:///Users/snour15/opt/anaconda3/envs/py39/lib/python3.9/site-packages/sklearn/utils/validation.py?line=924'>925</a>\u001b[0m             allow_nan\u001b[39m=\u001b[39;49mforce_all_finite \u001b[39m==\u001b[39;49m \u001b[39m\"\u001b[39;49m\u001b[39mallow-nan\u001b[39;49m\u001b[39m\"\u001b[39;49m,\n\u001b[1;32m    <a href='file:///Users/snour15/opt/anaconda3/envs/py39/lib/python3.9/site-packages/sklearn/utils/validation.py?line=925'>926</a>\u001b[0m         )\n\u001b[1;32m    <a href='file:///Users/snour15/opt/anaconda3/envs/py39/lib/python3.9/site-packages/sklearn/utils/validation.py?line=927'>928</a>\u001b[0m \u001b[39mif\u001b[39;00m ensure_min_samples \u001b[39m>\u001b[39m \u001b[39m0\u001b[39m:\n\u001b[1;32m    <a href='file:///Users/snour15/opt/anaconda3/envs/py39/lib/python3.9/site-packages/sklearn/utils/validation.py?line=928'>929</a>\u001b[0m     n_samples \u001b[39m=\u001b[39m _num_samples(array)\n",
            "File \u001b[0;32m~/opt/anaconda3/envs/py39/lib/python3.9/site-packages/sklearn/utils/validation.py:161\u001b[0m, in \u001b[0;36m_assert_all_finite\u001b[0;34m(X, allow_nan, msg_dtype, estimator_name, input_name)\u001b[0m\n\u001b[1;32m    <a href='file:///Users/snour15/opt/anaconda3/envs/py39/lib/python3.9/site-packages/sklearn/utils/validation.py?line=143'>144</a>\u001b[0m \u001b[39mif\u001b[39;00m estimator_name \u001b[39mand\u001b[39;00m input_name \u001b[39m==\u001b[39m \u001b[39m\"\u001b[39m\u001b[39mX\u001b[39m\u001b[39m\"\u001b[39m \u001b[39mand\u001b[39;00m has_nan_error:\n\u001b[1;32m    <a href='file:///Users/snour15/opt/anaconda3/envs/py39/lib/python3.9/site-packages/sklearn/utils/validation.py?line=144'>145</a>\u001b[0m     \u001b[39m# Improve the error message on how to handle missing values in\u001b[39;00m\n\u001b[1;32m    <a href='file:///Users/snour15/opt/anaconda3/envs/py39/lib/python3.9/site-packages/sklearn/utils/validation.py?line=145'>146</a>\u001b[0m     \u001b[39m# scikit-learn.\u001b[39;00m\n\u001b[1;32m    <a href='file:///Users/snour15/opt/anaconda3/envs/py39/lib/python3.9/site-packages/sklearn/utils/validation.py?line=146'>147</a>\u001b[0m     msg_err \u001b[39m+\u001b[39m\u001b[39m=\u001b[39m (\n\u001b[1;32m    <a href='file:///Users/snour15/opt/anaconda3/envs/py39/lib/python3.9/site-packages/sklearn/utils/validation.py?line=147'>148</a>\u001b[0m         \u001b[39mf\u001b[39m\u001b[39m\"\u001b[39m\u001b[39m\\n\u001b[39;00m\u001b[39m{\u001b[39;00mestimator_name\u001b[39m}\u001b[39;00m\u001b[39m does not accept missing values\u001b[39m\u001b[39m\"\u001b[39m\n\u001b[1;32m    <a href='file:///Users/snour15/opt/anaconda3/envs/py39/lib/python3.9/site-packages/sklearn/utils/validation.py?line=148'>149</a>\u001b[0m         \u001b[39m\"\u001b[39m\u001b[39m encoded as NaN natively. For supervised learning, you might want\u001b[39m\u001b[39m\"\u001b[39m\n\u001b[0;32m   (...)\u001b[0m\n\u001b[1;32m    <a href='file:///Users/snour15/opt/anaconda3/envs/py39/lib/python3.9/site-packages/sklearn/utils/validation.py?line=158'>159</a>\u001b[0m         \u001b[39m\"\u001b[39m\u001b[39m#estimators-that-handle-nan-values\u001b[39m\u001b[39m\"\u001b[39m\n\u001b[1;32m    <a href='file:///Users/snour15/opt/anaconda3/envs/py39/lib/python3.9/site-packages/sklearn/utils/validation.py?line=159'>160</a>\u001b[0m     )\n\u001b[0;32m--> <a href='file:///Users/snour15/opt/anaconda3/envs/py39/lib/python3.9/site-packages/sklearn/utils/validation.py?line=160'>161</a>\u001b[0m \u001b[39mraise\u001b[39;00m \u001b[39mValueError\u001b[39;00m(msg_err)\n",
            "\u001b[0;31mValueError\u001b[0m: Input contains NaN."
          ]
        }
      ],
      "source": [
        "from sklearn.metrics import mean_squared_error\n",
        "import numpy as np\n",
        "\n",
        "cnn_train_pred = model.predict(X_train)\n",
        "cnn_valid_pred = model.predict(X_valid)\n",
        "print('Train rmse:', np.sqrt(mean_squared_error(Y_train, cnn_train_pred)))\n",
        "print('Validation rmse:', np.sqrt(mean_squared_error(Y_valid, cnn_valid_pred)))"
      ]
    },
    {
      "cell_type": "markdown",
      "metadata": {
        "id": "f_d3FK1J19_f",
        "papermill": {
          "duration": 0.058828,
          "end_time": "2022-10-30T00:48:36.188996",
          "exception": false,
          "start_time": "2022-10-30T00:48:36.130168",
          "status": "completed"
        },
        "tags": []
      },
      "source": [
        "Plot the training curve."
      ]
    },
    {
      "cell_type": "code",
      "execution_count": null,
      "metadata": {
        "id": "IkYJI_FW19_f",
        "papermill": {
          "duration": 0.264993,
          "end_time": "2022-10-30T00:48:36.512573",
          "exception": false,
          "start_time": "2022-10-30T00:48:36.24758",
          "status": "completed"
        },
        "tags": [],
        "trusted": true
      },
      "outputs": [],
      "source": [
        "import matplotlib.pyplot as plt\n",
        "\n",
        "fig = plt.figure()\n",
        "plt.plot(cnn_history.history['loss'], label='Train loss')\n",
        "plt.plot(cnn_history.history['val_loss'], label='Validation loss')\n",
        "fig.legend()\n",
        "fig.suptitle('CNN')\n",
        "plt.xlabel(\"Epochs\")\n",
        "plt.ylabel(\"MSE\")\n",
        "\n",
        "plt.show()"
      ]
    }
  ],
  "metadata": {
    "colab": {
      "provenance": [],
      "toc_visible": true
    },
    "interpreter": {
      "hash": "85c28714a2c80618242e9db5b4a7ab643ce510631ee70a5a42951ff06ee22efb"
    },
    "kernelspec": {
      "display_name": "Python 3.9.16 ('py39')",
      "language": "python",
      "name": "python3"
    },
    "language_info": {
      "codemirror_mode": {
        "name": "ipython",
        "version": 3
      },
      "file_extension": ".py",
      "mimetype": "text/x-python",
      "name": "python",
      "nbconvert_exporter": "python",
      "pygments_lexer": "ipython3",
      "version": "3.9.16"
    }
  },
  "nbformat": 4,
  "nbformat_minor": 0
}
